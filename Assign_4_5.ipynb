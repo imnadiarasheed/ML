{
  "nbformat": 4,
  "nbformat_minor": 0,
  "metadata": {
    "colab": {
      "provenance": [],
      "mount_file_id": "1EuMtnLnVZVB1Yq8myNTduHJpU6PafD0f",
      "authorship_tag": "ABX9TyOdDUC7eGszcu4HEZxVjAlg",
      "include_colab_link": true
    },
    "kernelspec": {
      "name": "python3",
      "display_name": "Python 3"
    },
    "language_info": {
      "name": "python"
    },
    "accelerator": "GPU",
    "gpuClass": "standard"
  },
  "cells": [
    {
      "cell_type": "markdown",
      "metadata": {
        "id": "view-in-github",
        "colab_type": "text"
      },
      "source": [
        "<a href=\"https://colab.research.google.com/github/imnadiarasheed/ML/blob/main/Assign_4_5.ipynb\" target=\"_parent\"><img src=\"https://colab.research.google.com/assets/colab-badge.svg\" alt=\"Open In Colab\"/></a>"
      ]
    },
    {
      "cell_type": "code",
      "execution_count": null,
      "metadata": {
        "id": "UGMF6gsOpEsG"
      },
      "outputs": [],
      "source": [
        "# inception_v3 model used for transfer learning on the dogs and cats dataset\n",
        "import sys\n",
        "from matplotlib import pyplot\n",
        "from keras.utils import to_categorical\n",
        "from tensorflow.keras.applications.inception_v3 import InceptionV3\n",
        "from keras.models import Model\n",
        "from keras.layers import Dense\n",
        "from keras.layers import Flatten\n",
        "from keras.optimizers import SGD\n",
        "from keras.preprocessing.image import ImageDataGenerator"
      ]
    },
    {
      "cell_type": "code",
      "source": [
        "# define cnn model\n",
        "def define_model():\n",
        "  # load model\n",
        "  model = InceptionV3(weights='imagenet', include_top=False, input_shape=(150, 150, 3))\n",
        "  # mark loaded layers as not trainable\n",
        "  for layer in model.layers:\n",
        "    layer.trainable = False\n",
        "  # add new classifier layers\n",
        "  flat1 = Flatten()(model.layers[-1].output)\n",
        "  class1 = Dense(256, activation='relu', kernel_initializer='he_uniform')(flat1)\n",
        "  output = Dense(1, activation='sigmoid')(class1)\n",
        "  # define new model\n",
        "  model = Model(inputs=model.inputs, outputs=output)\n",
        "  # compile model\n",
        "  opt = SGD(learning_rate=0.001, momentum=0.9)\n",
        "  model.compile(optimizer=opt, loss='binary_crossentropy', metrics=['accuracy'])\n",
        "  return model"
      ],
      "metadata": {
        "id": "Af8HINNMpHcK"
      },
      "execution_count": null,
      "outputs": []
    },
    {
      "cell_type": "code",
      "source": [
        "# plot diagnostic learning curves\n",
        "def summarize_diagnostics(history):\n",
        "  # plot loss\n",
        "  pyplot.subplot(211)\n",
        "  pyplot.title('Cross Entropy Loss')\n",
        "  pyplot.plot(history.history['loss'], color='blue', label='train')\n",
        "  pyplot.plot(history.history['val_loss'], color='orange', label='test')\n",
        "  # plot accuracy\n",
        "  pyplot.subplot(212)\n",
        "  pyplot.title('Classification Accuracy')\n",
        "  pyplot.plot(history.history['accuracy'], color='blue', label='train')\n",
        "  pyplot.plot(history.history['val_accuracy'], color='orange', label='test')\n",
        "  pyplot.tight_layout(pad=.5)\n",
        "  pyplot.show()"
      ],
      "metadata": {
        "id": "XVvUEq7NpUQ3"
      },
      "execution_count": null,
      "outputs": []
    },
    {
      "cell_type": "code",
      "source": [
        "# run the test harness for evaluating a model\n",
        "def run_test_harness():\n",
        "  # define model\n",
        "  model = define_model()\n",
        "  # create data generator\n",
        "  datagen = ImageDataGenerator(featurewise_center=True)\n",
        "  # specify imagenet mean values for centering\n",
        "  datagen.mean = [123.68, 116.779, 103.939]\n",
        "  # prepare iterator\n",
        "  train_it = datagen.flow_from_directory('drive/MyDrive/Colab Notebooks/ML/Assignment-4/Dataset/dogs-vs-cat-small/train/', \n",
        "  class_mode='binary', batch_size=64, target_size=(150, 150))\n",
        "  vali_it = datagen.flow_from_directory('drive/MyDrive/Colab Notebooks/ML/Assignment-4/Dataset/dogs-vs-cat-small/validation/', \n",
        "  class_mode='binary', batch_size=64, target_size=(150, 150))\n",
        "  test_it = datagen.flow_from_directory('drive/MyDrive/Colab Notebooks/ML/Assignment-4/Dataset/dogs-vs-cat-small/test/', \n",
        "  class_mode='binary', batch_size=64, target_size=(150, 150))\n",
        "\n",
        "  # fit model\n",
        "  history = model.fit(train_it, steps_per_epoch=len(train_it), validation_data=vali_it, validation_steps=len(vali_it), epochs=10, verbose=1)\n",
        "  # evaluate model\n",
        "  test_loss, test_acc = model.evaluate(test_it, steps=len(test_it), verbose=0)\n",
        "  print('Accuracy > %.3f' % (test_acc * 100.0))\n",
        "  print('Loss > %.3f' % (test_loss * 100.0))\n",
        "  # learning curves\n",
        "  summarize_diagnostics(history)\n",
        "\n",
        "# entry point, run the test harness\n",
        "run_test_harness()"
      ],
      "metadata": {
        "colab": {
          "base_uri": "https://localhost:8080/",
          "height": 798
        },
        "id": "cPGrjsfJpXQc",
        "outputId": "16b30615-c103-4aef-f111-bbf522a3eea8"
      },
      "execution_count": null,
      "outputs": [
        {
          "metadata": {
            "tags": null
          },
          "name": "stdout",
          "output_type": "stream",
          "text": [
            "Downloading data from https://storage.googleapis.com/tensorflow/keras-applications/inception_v3/inception_v3_weights_tf_dim_ordering_tf_kernels_notop.h5\n",
            "87910968/87910968 [==============================] - 3s 0us/step\n",
            "Found 2000 images belonging to 2 classes.\n",
            "Found 1000 images belonging to 2 classes.\n",
            "Found 1000 images belonging to 2 classes.\n",
            "Epoch 1/10\n",
            "32/32 [==============================] - 609s 19s/step - loss: 14.2024 - accuracy: 0.5595 - val_loss: 0.6509 - val_accuracy: 0.6240\n",
            "Epoch 2/10\n",
            "32/32 [==============================] - 15s 455ms/step - loss: 0.6611 - accuracy: 0.6075 - val_loss: 0.6771 - val_accuracy: 0.5810\n",
            "Epoch 3/10\n",
            "32/32 [==============================] - 14s 448ms/step - loss: 0.6517 - accuracy: 0.6360 - val_loss: 0.6764 - val_accuracy: 0.6380\n",
            "Epoch 4/10\n",
            "32/32 [==============================] - 14s 448ms/step - loss: 0.6426 - accuracy: 0.6315 - val_loss: 0.6518 - val_accuracy: 0.6280\n",
            "Epoch 5/10\n",
            "32/32 [==============================] - 14s 447ms/step - loss: 0.6072 - accuracy: 0.6640 - val_loss: 0.6679 - val_accuracy: 0.6000\n",
            "Epoch 6/10\n",
            "32/32 [==============================] - 14s 447ms/step - loss: 0.5716 - accuracy: 0.6915 - val_loss: 0.6682 - val_accuracy: 0.6540\n",
            "Epoch 7/10\n",
            "32/32 [==============================] - 14s 451ms/step - loss: 0.5605 - accuracy: 0.7040 - val_loss: 0.6586 - val_accuracy: 0.6300\n",
            "Epoch 8/10\n",
            "32/32 [==============================] - 14s 449ms/step - loss: 0.5922 - accuracy: 0.6960 - val_loss: 0.6922 - val_accuracy: 0.6360\n",
            "Epoch 9/10\n",
            "32/32 [==============================] - 14s 447ms/step - loss: 0.6061 - accuracy: 0.6665 - val_loss: 0.7037 - val_accuracy: 0.5730\n",
            "Epoch 10/10\n",
            "32/32 [==============================] - 14s 444ms/step - loss: 0.6604 - accuracy: 0.5755 - val_loss: 0.6892 - val_accuracy: 0.5110\n",
            "Accuracy > 52.000\n",
            "Loss > 68.766\n"
          ]
        },
        {
          "data": {
            "image/png": "[encoded data removed]",
            "text/plain": [
              "<Figure size 432x288 with 2 Axes>"
            ]
          },
          "metadata": {},
          "output_type": "display_data"
        }
      ]
    }
  ]
}