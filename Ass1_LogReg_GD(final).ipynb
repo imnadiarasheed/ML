{
  "nbformat": 4,
  "nbformat_minor": 0,
  "metadata": {
    "colab": {
      "provenance": [],
      "collapsed_sections": [],
      "mount_file_id": "1X4efVG2uH8fZaWMW4TKh5XLnLDDqQLlC",
      "authorship_tag": "ABX9TyN1eHy6h8vI84DpTghKODyV",
      "include_colab_link": true
    },
    "kernelspec": {
      "name": "python3",
      "display_name": "Python 3"
    },
    "language_info": {
      "name": "python"
    }
  },
  "cells": [
    {
      "cell_type": "markdown",
      "metadata": {
        "id": "view-in-github",
        "colab_type": "text"
      },
      "source": [
        "<a href=\"https://colab.research.google.com/github/imnadiarasheed/ML/blob/main/Ass1_LogReg_GD(final).ipynb\" target=\"_parent\"><img src=\"https://colab.research.google.com/assets/colab-badge.svg\" alt=\"Open In Colab\"/></a>"
      ]
    },
    {
      "cell_type": "code",
      "execution_count": null,
      "metadata": {
        "id": "NaRia8ZfL28i"
      },
      "outputs": [],
      "source": [
        "import pandas as pd\n",
        "import numpy as np\n",
        "import matplotlib.pyplot as plt\n",
        "import seaborn as sns\n",
        "import missingno as msno\n",
        "from sklearn.linear_model import LogisticRegression\n",
        "from sklearn.metrics import accuracy_score\n",
        "from scipy.optimize import fmin_tnc"
      ]
    },
    {
      "cell_type": "code",
      "source": [
        "df_train=pd.read_csv(\"drive/MyDrive/Colab Notebooks/ML/Assignment-1/Dataset/train.csv\")\n",
        "df_test=pd.read_csv(\"drive/MyDrive/Colab Notebooks/ML/Assignment-1/Dataset/test.csv\")\n",
        "df_gt=pd.read_csv(\"drive/MyDrive/Colab Notebooks/ML/Assignment-1/Dataset/gender_submission.csv\")\n",
        "#print(df_train.head(5)), print(df_test.head(5)), print(df_gt.head(5))"
      ],
      "metadata": {
        "id": "ejte_DNUos1R"
      },
      "execution_count": null,
      "outputs": []
    },
    {
      "cell_type": "code",
      "execution_count": null,
      "metadata": {
        "colab": {
          "base_uri": "https://localhost:8080/"
        },
        "outputId": "b9bbe38d-0962-4f88-f55f-8a3d9245b722",
        "id": "HwmHa-Kpos1R"
      },
      "outputs": [
        {
          "output_type": "stream",
          "name": "stdout",
          "text": [
            "     Survived  Pclass     Sex   Age  SibSp  Parch     Fare Embarked\n",
            "0           0       3    male  22.0      1      0   7.2500        S\n",
            "1           1       1  female  38.0      1      0  71.2833        C\n",
            "2           1       3  female  26.0      0      0   7.9250        S\n",
            "3           1       1  female  35.0      1      0  53.1000        S\n",
            "4           0       3    male  35.0      0      0   8.0500        S\n",
            "..        ...     ...     ...   ...    ...    ...      ...      ...\n",
            "886         0       2    male  27.0      0      0  13.0000        S\n",
            "887         1       1  female  19.0      0      0  30.0000        S\n",
            "888         0       3  female   NaN      1      2  23.4500        S\n",
            "889         1       1    male  26.0      0      0  30.0000        C\n",
            "890         0       3    male  32.0      0      0   7.7500        Q\n",
            "\n",
            "[891 rows x 8 columns]\n",
            "     Pclass     Sex   Age  SibSp  Parch      Fare Embarked\n",
            "0         3    male  34.5      0      0    7.8292        Q\n",
            "1         3  female  47.0      1      0    7.0000        S\n",
            "2         2    male  62.0      0      0    9.6875        Q\n",
            "3         3    male  27.0      0      0    8.6625        S\n",
            "4         3  female  22.0      1      1   12.2875        S\n",
            "..      ...     ...   ...    ...    ...       ...      ...\n",
            "413       3    male   NaN      0      0    8.0500        S\n",
            "414       1  female  39.0      0      0  108.9000        C\n",
            "415       3    male  38.5      0      0    7.2500        S\n",
            "416       3    male   NaN      0      0    8.0500        S\n",
            "417       3    male   NaN      1      1   22.3583        C\n",
            "\n",
            "[418 rows x 7 columns]\n"
          ]
        },
        {
          "output_type": "execute_result",
          "data": {
            "text/plain": [
              "(None, None)"
            ]
          },
          "metadata": {},
          "execution_count": 33
        }
      ],
      "source": [
        "df_train.drop(\"PassengerId\",axis=1,inplace=True), df_test.drop(\"PassengerId\",axis=1,inplace=True)\n",
        "df_train.drop(\"Name\",axis=1,inplace=True), df_test.drop(\"Name\",axis=1,inplace=True)\n",
        "df_train.drop(\"Ticket\",axis=1,inplace=True), df_test.drop(\"Ticket\",axis=1,inplace=True)\n",
        "df_train.drop(\"Cabin\",axis=1,inplace=True), df_test.drop(\"Cabin\",axis=1,inplace=True)\n",
        "print(df_train), print(df_test)"
      ]
    },
    {
      "cell_type": "markdown",
      "source": [
        "**Preprocessing**"
      ],
      "metadata": {
        "id": "5gXRNSIeos1S"
      }
    },
    {
      "cell_type": "markdown",
      "metadata": {
        "id": "lfy9unZGos1S"
      },
      "source": [
        "**Data Cleaning**"
      ]
    },
    {
      "cell_type": "code",
      "source": [
        "print(df_train.isnull().sum()), print(df_test.isnull().sum())"
      ],
      "metadata": {
        "colab": {
          "base_uri": "https://localhost:8080/"
        },
        "outputId": "2f2db707-8bbd-47c5-f5e3-a6441de87f30",
        "id": "HdXlrXj2os1T"
      },
      "execution_count": null,
      "outputs": [
        {
          "output_type": "stream",
          "name": "stdout",
          "text": [
            "Survived      0\n",
            "Pclass        0\n",
            "Sex           0\n",
            "Age         177\n",
            "SibSp         0\n",
            "Parch         0\n",
            "Fare          0\n",
            "Embarked      2\n",
            "dtype: int64\n",
            "Pclass       0\n",
            "Sex          0\n",
            "Age         86\n",
            "SibSp        0\n",
            "Parch        0\n",
            "Fare         1\n",
            "Embarked     0\n",
            "dtype: int64\n"
          ]
        },
        {
          "output_type": "execute_result",
          "data": {
            "text/plain": [
              "(None, None)"
            ]
          },
          "metadata": {},
          "execution_count": 34
        }
      ]
    },
    {
      "cell_type": "code",
      "execution_count": null,
      "metadata": {
        "id": "M91NO0m2os1T"
      },
      "outputs": [],
      "source": [
        "df_train['Age'].fillna(df_train['Age'].mean(),inplace=True)\n",
        "df_test['Age'].fillna(df_test['Age'].mean(),inplace=True)\n",
        "#df_train['Embarked'].fillna(df_train['Embarked'].mode(),inplace=True)\n",
        "df_test['Fare'].fillna(df_test['Fare'].mean(),inplace=True)"
      ]
    },
    {
      "cell_type": "code",
      "source": [
        "print(df_train.isnull().sum()), print(df_test.isnull().sum())"
      ],
      "metadata": {
        "colab": {
          "base_uri": "https://localhost:8080/"
        },
        "outputId": "d0c7a82f-d1d2-4f72-ce56-98d8acb8a25a",
        "id": "QmLuILPNos1T"
      },
      "execution_count": null,
      "outputs": [
        {
          "output_type": "stream",
          "name": "stdout",
          "text": [
            "Survived    0\n",
            "Pclass      0\n",
            "Sex         0\n",
            "Age         0\n",
            "SibSp       0\n",
            "Parch       0\n",
            "Fare        0\n",
            "Embarked    2\n",
            "dtype: int64\n",
            "Pclass      0\n",
            "Sex         0\n",
            "Age         0\n",
            "SibSp       0\n",
            "Parch       0\n",
            "Fare        0\n",
            "Embarked    0\n",
            "dtype: int64\n"
          ]
        },
        {
          "output_type": "execute_result",
          "data": {
            "text/plain": [
              "(None, None)"
            ]
          },
          "metadata": {},
          "execution_count": 36
        }
      ]
    },
    {
      "cell_type": "markdown",
      "source": [
        "**Label Encoding**"
      ],
      "metadata": {
        "id": "2P5mfv3J76rC"
      }
    },
    {
      "cell_type": "code",
      "execution_count": null,
      "metadata": {
        "colab": {
          "base_uri": "https://localhost:8080/"
        },
        "outputId": "f67f1047-aaa7-4c16-f65a-d182ed01afa6",
        "id": "Rw0vdgXKos1U"
      },
      "outputs": [
        {
          "output_type": "stream",
          "name": "stdout",
          "text": [
            "     Survived  Pclass  Sex        Age  SibSp  Parch     Fare  Embarked\n",
            "0           0       3    1  22.000000      1      0   7.2500         2\n",
            "1           1       1    0  38.000000      1      0  71.2833         0\n",
            "2           1       3    0  26.000000      0      0   7.9250         2\n",
            "3           1       1    0  35.000000      1      0  53.1000         2\n",
            "4           0       3    1  35.000000      0      0   8.0500         2\n",
            "..        ...     ...  ...        ...    ...    ...      ...       ...\n",
            "886         0       2    1  27.000000      0      0  13.0000         2\n",
            "887         1       1    0  19.000000      0      0  30.0000         2\n",
            "888         0       3    0  29.699118      1      2  23.4500         2\n",
            "889         1       1    1  26.000000      0      0  30.0000         0\n",
            "890         0       3    1  32.000000      0      0   7.7500         1\n",
            "\n",
            "[891 rows x 8 columns]\n",
            "     Pclass  Sex       Age  SibSp  Parch      Fare  Embarked\n",
            "0         3    1  34.50000      0      0    7.8292         1\n",
            "1         3    0  47.00000      1      0    7.0000         2\n",
            "2         2    1  62.00000      0      0    9.6875         1\n",
            "3         3    1  27.00000      0      0    8.6625         2\n",
            "4         3    0  22.00000      1      1   12.2875         2\n",
            "..      ...  ...       ...    ...    ...       ...       ...\n",
            "413       3    1  30.27259      0      0    8.0500         2\n",
            "414       1    0  39.00000      0      0  108.9000         0\n",
            "415       3    1  38.50000      0      0    7.2500         2\n",
            "416       3    1  30.27259      0      0    8.0500         2\n",
            "417       3    1  30.27259      1      1   22.3583         0\n",
            "\n",
            "[418 rows x 7 columns]\n"
          ]
        },
        {
          "output_type": "execute_result",
          "data": {
            "text/plain": [
              "(None, None)"
            ]
          },
          "metadata": {},
          "execution_count": 37
        }
      ],
      "source": [
        "from sklearn.preprocessing import LabelEncoder\n",
        "le = LabelEncoder()\n",
        "df_train['Sex'] = le.fit_transform(df_train['Sex'])\n",
        "df_train['Embarked'] = le.fit_transform(df_train['Embarked'])\n",
        "df_test['Sex'] = le.fit_transform(df_test['Sex'])\n",
        "df_test['Embarked'] = le.fit_transform(df_test['Embarked'])\n",
        "print(df_train), print(df_test)"
      ]
    },
    {
      "cell_type": "markdown",
      "metadata": {
        "id": "Vrr0BPq2os1U"
      },
      "source": [
        "**Training and Testing using Logistic Regression GD**"
      ]
    },
    {
      "cell_type": "code",
      "source": [
        "class LogisticRegressionUsingGD:\n",
        "\n",
        "    @staticmethod\n",
        "    def sigmoid(x):\n",
        "        # Activation function used to map any real value between 0 and 1\n",
        "        return 1 / (1 + np.exp(-x))\n",
        "\n",
        "    @staticmethod\n",
        "    def net_input(theta, x):\n",
        "        # Computes the weighted sum of inputs Similar to Linear Regression\n",
        "\n",
        "        return np.dot(x, theta)\n",
        "\n",
        "    def probability(self, theta, x):\n",
        "        # Calculates the probability that an instance belongs to a particular class\n",
        "\n",
        "        return self.sigmoid(self.net_input(theta, x))\n",
        "\n",
        "    def cost_function(self, theta, x, y):\n",
        "        # Computes the cost function for all the training samples\n",
        "        m = x.shape[0]\n",
        "        total_cost = -(1 / m) * np.sum(\n",
        "            y * np.log(self.probability(theta, x)) + (1 - y) * np.log(\n",
        "                1 - self.probability(theta, x)))\n",
        "        return total_cost\n",
        "\n",
        "    def gradient(self, theta, x, y):\n",
        "        # Computes the gradient of the cost function at the point theta\n",
        "        m = x.shape[0]\n",
        "        return (1 / m) * np.dot(x.T, self.sigmoid(self.net_input(theta, x)) - y)\n",
        "\n",
        "    def fit(self, x, y, theta):\n",
        "        \"\"\"trains the model from the training data\n",
        "\n",
        "        Uses the fmin_tnc function that is used to find the minimum for any function\n",
        "        It takes arguments as\n",
        "            1) func : function to minimize\n",
        "            2) x0 : initial values for the parameters\n",
        "            3) fprime: gradient for the function defined by 'func'\n",
        "            4) args: arguments passed to the function\n",
        "\n",
        "        Parameters\n",
        "        ----------\n",
        "        x: array-like, shape = [n_samples, n_features]\n",
        "            Training samples\n",
        "\n",
        "        y: array-like, shape = [n_samples, n_target_values]\n",
        "            Target classes\n",
        "\n",
        "        theta: initial weights\n",
        "\n",
        "        Returns\n",
        "        -------\n",
        "\n",
        "        self: An instance of self\"\"\"\n",
        "\n",
        "        opt_weights = fmin_tnc(func=self.cost_function, x0=theta, fprime=self.gradient,\n",
        "                               args=(x, y.flatten()))\n",
        "        self.w_ = opt_weights[0]\n",
        "        return self\n",
        "\n",
        "    def predict(self, x):\n",
        "        \"\"\" Predicts the class labels\n",
        "\n",
        "        Parameters\n",
        "        ----------\n",
        "        x: array-like, shape = [n_samples, n_features]\n",
        "            Test samples\n",
        "\n",
        "        Returns\n",
        "        -------\n",
        "        predicted class labels\n",
        "\n",
        "\n",
        "        \"\"\"\n",
        "        theta = self.w_[:, np.newaxis]\n",
        "        return self.probability(theta, x)\n",
        "\n",
        "    def accuracy(self, x, actual_classes, probab_threshold=0.5):\n",
        "        \"\"\"Computes the accuracy of the classifier\n",
        "\n",
        "        Parameters\n",
        "        ----------\n",
        "        x: array-like, shape = [n_samples, n_features]\n",
        "            Training samples\n",
        "\n",
        "        actual_classes : class labels from the training data set\n",
        "\n",
        "        probab_threshold: threshold/cutoff to categorize the samples into different classes\n",
        "\n",
        "        Returns\n",
        "        -------\n",
        "        accuracy: accuracy of the model\n",
        "\n",
        "        \"\"\"\n",
        "        predicted_classes = (self.predict(x) >= probab_threshold).astype(int)\n",
        "        predicted_classes = predicted_classes\n",
        "        accuracy = np.mean(predicted_classes == actual_classes)\n",
        "        return accuracy"
      ],
      "metadata": {
        "id": "xQH0lkt92oh3"
      },
      "execution_count": null,
      "outputs": []
    },
    {
      "cell_type": "code",
      "source": [
        "def funx(xlabel, ylabel):\n",
        "    # load the data from the file\n",
        "    #data = load_data(\"drive/MyDrive/Colab Notebooks/ML/Assignment-1/Dataset/marks.txt\", None)\n",
        "\n",
        "    X_train = X_train1.to_numpy()\n",
        "    y_train = y_train1.to_numpy()\n",
        "    X_test = X_test1.to_numpy()\n",
        "    y_test = y_test1.to_numpy()\n",
        "\n",
        "    # filter out the applicants that Survived\n",
        "    survived = training_data.loc[training_data['Survived'] == 1]\n",
        "\n",
        "    # filter out the applicants that din't Survived\n",
        "    not_survived = training_data.loc[training_data['Survived'] == 0]\n",
        "\n",
        "    # plots\n",
        "    #plt.scatter(survived.iloc[:, 0], survived.iloc[:, 1], s=10, label='Survived')\n",
        "    #plt.scatter(not_survived.iloc[:, 0], not_survived.iloc[:, 1], s=10, label='Not Survived')\n",
        "\n",
        "    # preparing the data for building the model\n",
        "\n",
        "    X_train = np.c_[np.ones((X_train.shape[0], 1)), X_train]\n",
        "    X_test = np.c_[np.ones((X_test.shape[0], 1)), X_test]\n",
        "    theta = np.zeros((X_train.shape[1], 1))\n",
        "\n",
        "    # Logistic Regression from scratch using Gradient Descent\n",
        "    model = LogisticRegressionUsingGD()\n",
        "    model.fit(X_train, y_train, theta)\n",
        "    accuracy_train = model.accuracy(X_train, y_train)\n",
        "    accuracy_test = model.accuracy(X_test, y_test)\n",
        "    parameters = model.w_\n",
        "\n",
        "    print(\"The model parameters using Gradient descent\")\n",
        "    print(parameters)\n",
        "    print('\\nTraining Accuracy')\n",
        "    print(\"The accuracy of the model is {}\".format(accuracy_train))\n",
        "    print('Test Accuracy')\n",
        "    print('The accuracy of the model is {}'.format(accuracy_test))\n",
        "    print(\"\\n\")\n",
        "\n",
        "    # plotting the decision boundary\n",
        "    # As there are two features\n",
        "    # wo + w1x1 + w2x2 = 0\n",
        "    # x2 = - (wo + w1x1)/(w2)\n",
        "\n",
        "    x_values = [np.min(X_train[:, 1] - 2), np.max(X_train[:, 2] + 2)]\n",
        "    y_values = - (parameters[0] + np.dot(parameters[1], x_values)) / parameters[2]\n",
        "\n",
        "    \"\"\"plt.plot(x_values, y_values, label='Decision Boundary')\n",
        "    plt.xlabel(xlabel)\n",
        "    plt.ylabel(ylabel)\n",
        "    plt.legend()\n",
        "    plt.show()\"\"\"\n",
        "\n",
        "    # Using scikit-learn\n",
        "    model = LogisticRegression()\n",
        "    model.fit(X_train, y_train)\n",
        "    parameters = model.coef_\n",
        "    predicted_classes_train = model.predict(X_train)\n",
        "    predicted_classes_test = model.predict(X_test)\n",
        "    accuracy_train = accuracy_score(y_train,predicted_classes_train)\n",
        "    accuracy_test = accuracy_score(y_test,predicted_classes_test)\n",
        "\n",
        "    print(\"The model parameters using scikit learn\")\n",
        "    print(parameters)\n",
        "    print('\\nTraining Accuracy')\n",
        "    print('The accuracy score using scikit-learn is {}'.format(accuracy_train))\n",
        "    print('Test Accuracy')\n",
        "    print('The accuracy score using scikit-learn is {}'.format(accuracy_test))\n",
        "    print('\\n')\n",
        "    #print(survived)"
      ],
      "metadata": {
        "id": "jo-MwtbB2uhq"
      },
      "execution_count": 46,
      "outputs": []
    },
    {
      "cell_type": "markdown",
      "source": [
        "**Data Normalization & Feature Selection (All)**"
      ],
      "metadata": {
        "id": "zwoO4cXAsUCP"
      }
    },
    {
      "cell_type": "code",
      "source": [
        "X_train=df_train.copy()\n",
        "X_test=df_test.copy()\n",
        "y_test=df_gt.copy()\n",
        "\n",
        "X_train['Fare'] = X_train['Fare'] / X_train['Fare'].max()\n",
        "X_train['Age'] = X_train['Age'] / X_train['Age'].max()\n",
        "X_test['Fare'] = X_test['Fare'] / X_test['Fare'].max()\n",
        "X_test['Age'] = X_test['Age'] / X_test['Age'].max()\n",
        "\n",
        "#training_data = X_train[['Pclass', 'Sex', 'Age', 'SibSp', 'Parch', 'Fare', 'Embarked']]\n",
        "training_data = X_train[['Survived', 'Pclass', 'Sex', 'Age', 'SibSp', 'Parch', 'Fare', 'Embarked']]\n",
        "y_train1 = X_train[['Survived']]\n",
        "X_train1 = X_train[['Pclass', 'Sex', 'Age', 'SibSp', 'Parch', 'Fare', 'Embarked']]\n",
        "y_test1 = y_test[['Survived']]\n",
        "X_test1 = X_test[['Pclass', 'Sex', 'Age', 'SibSp', 'Parch', 'Fare', 'Embarked']]\n",
        "#training_data\n",
        "funx('Pclass', 'Sex')"
      ],
      "metadata": {
        "id": "8BQFAi_2OAbk",
        "colab": {
          "base_uri": "https://localhost:8080/"
        },
        "outputId": "b34c91ba-1d3b-4dcd-9935-9a2b082c58b5"
      },
      "execution_count": 47,
      "outputs": [
        {
          "output_type": "stream",
          "name": "stdout",
          "text": [
            "The model parameters using Gradient descent\n",
            "[ 5.27996643 -1.08465876 -2.7426663  -3.14424168 -0.32928693 -0.10171888\n",
            "  1.02309608 -0.21639783]\n",
            "\n",
            "Training Accuracy\n",
            "The accuracy of the model is 0.8002244668911336\n",
            "Test Accuracy\n",
            "The accuracy of the model is 0.9401913875598086\n",
            "\n",
            "\n",
            "The model parameters using scikit learn\n",
            "[[-1.65580301e-04 -1.02134814e+00 -2.61567322e+00 -2.25850079e+00\n",
            "  -2.82473610e-01 -6.82520739e-02  4.86908605e-01 -2.28300972e-01]]\n",
            "\n",
            "Training Accuracy\n",
            "The accuracy score using scikit-learn is 0.8013468013468014\n",
            "Test Accuracy\n",
            "The accuracy score using scikit-learn is 0.9521531100478469\n",
            "\n",
            "\n"
          ]
        },
        {
          "output_type": "stream",
          "name": "stderr",
          "text": [
            "/usr/local/lib/python3.7/dist-packages/sklearn/utils/validation.py:993: DataConversionWarning: A column-vector y was passed when a 1d array was expected. Please change the shape of y to (n_samples, ), for example using ravel().\n",
            "  y = column_or_1d(y, warn=True)\n"
          ]
        }
      ]
    },
    {
      "cell_type": "markdown",
      "source": [
        "**Data Normalization & Feature Selection (Sex, Age)**"
      ],
      "metadata": {
        "id": "nyKnqC09osvG"
      }
    },
    {
      "cell_type": "code",
      "source": [
        "X_train=df_train.copy()\n",
        "X_test=df_test.copy()\n",
        "y_test=df_gt.copy()\n",
        "\n",
        "X_train['Fare'] = X_train['Fare'] / X_train['Fare'].max()\n",
        "X_train['Age'] = X_train['Age'] / X_train['Age'].max()\n",
        "X_test['Fare'] = X_test['Fare'] / X_test['Fare'].max()\n",
        "X_test['Age'] = X_test['Age'] / X_test['Age'].max()\n",
        "\n",
        "#training_data = X_train[['Pclass', 'Sex', 'Age', 'SibSp', 'Parch', 'Fare', 'Embarked']]\n",
        "training_data = X_train[['Survived', 'Sex', 'Age']]\n",
        "y_train1 = X_train[['Survived']]\n",
        "X_train1 = X_train[['Sex', 'Age']]\n",
        "y_test1 = y_test[['Survived']]\n",
        "X_test1 = X_test[['Sex', 'Age']]\n",
        "#training_data\n",
        "funx('Sex', 'Age')"
      ],
      "metadata": {
        "colab": {
          "base_uri": "https://localhost:8080/",
          "height": 646
        },
        "outputId": "0bd34634-556c-4aa8-ce4d-a97de0959d53",
        "id": "jJsWtha9osvR"
      },
      "execution_count": null,
      "outputs": [
        {
          "output_type": "stream",
          "name": "stdout",
          "text": [
            "The model parameters using Gradient descent\n",
            "[ 1.21280396 -2.50392625 -0.43946818]\n",
            "\n",
            "Training Accuracy\n",
            "The accuracy of the model is 0.7867564534231201\n",
            "Test Accuracy\n",
            "The accuracy of the model is 1.0\n",
            "\n",
            "\n"
          ]
        },
        {
          "output_type": "display_data",
          "data": {
            "text/plain": [
              "<Figure size 432x288 with 1 Axes>"
            ],
            "image/png": "[encoded data removed]"
          },
          "metadata": {
            "needs_background": "light"
          }
        },
        {
          "output_type": "stream",
          "name": "stderr",
          "text": [
            "/usr/local/lib/python3.7/dist-packages/sklearn/utils/validation.py:993: DataConversionWarning: A column-vector y was passed when a 1d array was expected. Please change the shape of y to (n_samples, ), for example using ravel().\n",
            "  y = column_or_1d(y, warn=True)\n"
          ]
        },
        {
          "output_type": "stream",
          "name": "stdout",
          "text": [
            "The model parameters using scikit learn\n",
            "[[ 2.30454460e-05 -2.43776665e+00 -3.57788846e-01]]\n",
            "\n",
            "Training Accuracy\n",
            "The accuracy score using scikit-learn is 0.7867564534231201\n",
            "Test Accuracy\n",
            "The accuracy score using scikit-learn is 1.0\n",
            "\n",
            "\n"
          ]
        }
      ]
    },
    {
      "cell_type": "markdown",
      "source": [
        "**Data Normalization & Feature Selection (Pclass, Sex)**"
      ],
      "metadata": {
        "id": "Za0_-tk6ianY"
      }
    },
    {
      "cell_type": "code",
      "source": [
        "X_train=df_train.copy()\n",
        "X_test=df_test.copy()\n",
        "y_test=df_gt.copy()\n",
        "\n",
        "X_train['Fare'] = X_train['Fare'] / X_train['Fare'].max()\n",
        "X_train['Age'] = X_train['Age'] / X_train['Age'].max()\n",
        "X_test['Fare'] = X_test['Fare'] / X_test['Fare'].max()\n",
        "X_test['Age'] = X_test['Age'] / X_test['Age'].max()\n",
        "\n",
        "#training_data = X_train[['Pclass', 'Sex', 'Age', 'SibSp', 'Parch', 'Fare', 'Embarked']]\n",
        "training_data = X_train[['Survived', 'Pclass', 'Sex']]\n",
        "y_train1 = X_train[['Survived']]\n",
        "X_train1 = X_train[['Pclass', 'Sex']]\n",
        "y_test1 = y_test[['Survived']]\n",
        "X_test1 = X_test[['Pclass', 'Sex']]\n",
        "#training_data\n",
        "#funx('Pclass', 'Sex')"
      ],
      "metadata": {
        "id": "PSg63gEbiVQb"
      },
      "execution_count": 43,
      "outputs": []
    }
  ]
}