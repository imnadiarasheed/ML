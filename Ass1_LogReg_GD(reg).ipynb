{
  "nbformat": 4,
  "nbformat_minor": 0,
  "metadata": {
    "colab": {
      "provenance": [],
      "collapsed_sections": [],
      "mount_file_id": "1UGRbesRi8JgXOmCcxO7eoeum91X4DjCs",
      "authorship_tag": "ABX9TyPR3ww52hwLgIr6zre5JPdV",
      "include_colab_link": true
    },
    "kernelspec": {
      "name": "python3",
      "display_name": "Python 3"
    },
    "language_info": {
      "name": "python"
    }
  },
  "cells": [
    {
      "cell_type": "markdown",
      "metadata": {
        "id": "view-in-github",
        "colab_type": "text"
      },
      "source": [
        "<a href=\"https://colab.research.google.com/github/imnadiarasheed/ML/blob/main/Ass1_LogReg_GD(reg).ipynb\" target=\"_parent\"><img src=\"https://colab.research.google.com/assets/colab-badge.svg\" alt=\"Open In Colab\"/></a>"
      ]
    },
    {
      "cell_type": "code",
      "execution_count": 14,
      "metadata": {
        "id": "NaRia8ZfL28i"
      },
      "outputs": [],
      "source": [
        "###\n",
        "import numpy as np\n",
        "import pandas as pd\n",
        "import warnings\n",
        "import matplotlib.pyplot as plt\n",
        "%matplotlib inline\n",
        "\n",
        "###\n",
        "warnings.filterwarnings(\"ignore\");\n",
        "\n",
        "###\n",
        "from sklearn.metrics import confusion_matrix\n",
        "from sklearn.metrics import accuracy_score\n",
        "from sklearn.metrics import classification_report"
      ]
    },
    {
      "cell_type": "code",
      "source": [
        "df_train=pd.read_csv(\"drive/MyDrive/Colab Notebooks/ML/Assignment-1/Dataset/train.csv\")\n",
        "df_test=pd.read_csv(\"drive/MyDrive/Colab Notebooks/ML/Assignment-1/Dataset/test2.csv\")\n",
        "#df_gt=pd.read_csv(\"drive/MyDrive/Colab Notebooks/ML/Assignment-1/Dataset/gender_submission.csv\")\n",
        "#print(df_train.head(5)), print(df_test.head(5))"
      ],
      "metadata": {
        "id": "ejte_DNUos1R"
      },
      "execution_count": 15,
      "outputs": []
    },
    {
      "cell_type": "code",
      "execution_count": 16,
      "metadata": {
        "colab": {
          "base_uri": "https://localhost:8080/"
        },
        "outputId": "66e0478b-3a12-4cf2-e3b6-cb682fb02119",
        "id": "HwmHa-Kpos1R"
      },
      "outputs": [
        {
          "output_type": "stream",
          "name": "stdout",
          "text": [
            "     Survived  Pclass     Sex   Age  SibSp  Parch     Fare Embarked\n",
            "0           0       3    male  22.0      1      0   7.2500        S\n",
            "1           1       1  female  38.0      1      0  71.2833        C\n",
            "2           1       3  female  26.0      0      0   7.9250        S\n",
            "3           1       1  female  35.0      1      0  53.1000        S\n",
            "4           0       3    male  35.0      0      0   8.0500        S\n",
            "..        ...     ...     ...   ...    ...    ...      ...      ...\n",
            "886         0       2    male  27.0      0      0  13.0000        S\n",
            "887         1       1  female  19.0      0      0  30.0000        S\n",
            "888         0       3  female   NaN      1      2  23.4500        S\n",
            "889         1       1    male  26.0      0      0  30.0000        C\n",
            "890         0       3    male  32.0      0      0   7.7500        Q\n",
            "\n",
            "[891 rows x 8 columns]\n",
            "     Survived  Pclass     Sex   Age  SibSp  Parch      Fare Embarked\n",
            "0           0       3    male  34.5      0      0    7.8292        Q\n",
            "1           1       3  female  47.0      1      0    7.0000        S\n",
            "2           0       2    male  62.0      0      0    9.6875        Q\n",
            "3           0       3    male  27.0      0      0    8.6625        S\n",
            "4           1       3  female  22.0      1      1   12.2875        S\n",
            "..        ...     ...     ...   ...    ...    ...       ...      ...\n",
            "413         0       3    male   NaN      0      0    8.0500        S\n",
            "414         1       1  female  39.0      0      0  108.9000        C\n",
            "415         0       3    male  38.5      0      0    7.2500        S\n",
            "416         0       3    male   NaN      0      0    8.0500        S\n",
            "417         0       3    male   NaN      1      1   22.3583        C\n",
            "\n",
            "[418 rows x 8 columns]\n"
          ]
        },
        {
          "output_type": "execute_result",
          "data": {
            "text/plain": [
              "(None, None)"
            ]
          },
          "metadata": {},
          "execution_count": 16
        }
      ],
      "source": [
        "df_train.drop(\"PassengerId\",axis=1,inplace=True), df_test.drop(\"PassengerId\",axis=1,inplace=True)\n",
        "df_train.drop(\"Name\",axis=1,inplace=True), df_test.drop(\"Name\",axis=1,inplace=True)\n",
        "df_train.drop(\"Ticket\",axis=1,inplace=True), df_test.drop(\"Ticket\",axis=1,inplace=True)\n",
        "df_train.drop(\"Cabin\",axis=1,inplace=True), df_test.drop(\"Cabin\",axis=1,inplace=True)\n",
        "print(df_train), print(df_test)"
      ]
    },
    {
      "cell_type": "markdown",
      "source": [
        "**Preprocessing**"
      ],
      "metadata": {
        "id": "5gXRNSIeos1S"
      }
    },
    {
      "cell_type": "markdown",
      "metadata": {
        "id": "lfy9unZGos1S"
      },
      "source": [
        "**Data Cleaning**"
      ]
    },
    {
      "cell_type": "code",
      "source": [
        "print(df_train.isnull().sum()), print(df_test.isnull().sum())"
      ],
      "metadata": {
        "colab": {
          "base_uri": "https://localhost:8080/"
        },
        "outputId": "f89590e5-9883-4d45-e262-798e46601105",
        "id": "HdXlrXj2os1T"
      },
      "execution_count": 17,
      "outputs": [
        {
          "output_type": "stream",
          "name": "stdout",
          "text": [
            "Survived      0\n",
            "Pclass        0\n",
            "Sex           0\n",
            "Age         177\n",
            "SibSp         0\n",
            "Parch         0\n",
            "Fare          0\n",
            "Embarked      2\n",
            "dtype: int64\n",
            "Survived     0\n",
            "Pclass       0\n",
            "Sex          0\n",
            "Age         86\n",
            "SibSp        0\n",
            "Parch        0\n",
            "Fare         1\n",
            "Embarked     0\n",
            "dtype: int64\n"
          ]
        },
        {
          "output_type": "execute_result",
          "data": {
            "text/plain": [
              "(None, None)"
            ]
          },
          "metadata": {},
          "execution_count": 17
        }
      ]
    },
    {
      "cell_type": "code",
      "execution_count": 18,
      "metadata": {
        "id": "M91NO0m2os1T"
      },
      "outputs": [],
      "source": [
        "df_train['Age'].fillna(df_train['Age'].mean(),inplace=True)\n",
        "df_test['Age'].fillna(df_test['Age'].mean(),inplace=True)\n",
        "#df_train['Embarked'].fillna(df_train['Embarked'].mode(),inplace=True)\n",
        "df_test['Fare'].fillna(df_test['Fare'].mean(),inplace=True)"
      ]
    },
    {
      "cell_type": "code",
      "source": [
        "print(df_train.isnull().sum()), print(df_test.isnull().sum())"
      ],
      "metadata": {
        "colab": {
          "base_uri": "https://localhost:8080/"
        },
        "outputId": "68903865-48bf-4201-e292-dc8e8e2edcc7",
        "id": "QmLuILPNos1T"
      },
      "execution_count": 19,
      "outputs": [
        {
          "output_type": "stream",
          "name": "stdout",
          "text": [
            "Survived    0\n",
            "Pclass      0\n",
            "Sex         0\n",
            "Age         0\n",
            "SibSp       0\n",
            "Parch       0\n",
            "Fare        0\n",
            "Embarked    2\n",
            "dtype: int64\n",
            "Survived    0\n",
            "Pclass      0\n",
            "Sex         0\n",
            "Age         0\n",
            "SibSp       0\n",
            "Parch       0\n",
            "Fare        0\n",
            "Embarked    0\n",
            "dtype: int64\n"
          ]
        },
        {
          "output_type": "execute_result",
          "data": {
            "text/plain": [
              "(None, None)"
            ]
          },
          "metadata": {},
          "execution_count": 19
        }
      ]
    },
    {
      "cell_type": "markdown",
      "source": [
        "**Label Encoding**"
      ],
      "metadata": {
        "id": "2P5mfv3J76rC"
      }
    },
    {
      "cell_type": "code",
      "execution_count": 20,
      "metadata": {
        "colab": {
          "base_uri": "https://localhost:8080/"
        },
        "outputId": "e3e32d4b-bb36-4c8e-b6cb-7558ddfbe7c3",
        "id": "Rw0vdgXKos1U"
      },
      "outputs": [
        {
          "output_type": "stream",
          "name": "stdout",
          "text": [
            "     Survived  Pclass  Sex        Age  SibSp  Parch     Fare  Embarked\n",
            "0           0       3    1  22.000000      1      0   7.2500         2\n",
            "1           1       1    0  38.000000      1      0  71.2833         0\n",
            "2           1       3    0  26.000000      0      0   7.9250         2\n",
            "3           1       1    0  35.000000      1      0  53.1000         2\n",
            "4           0       3    1  35.000000      0      0   8.0500         2\n",
            "..        ...     ...  ...        ...    ...    ...      ...       ...\n",
            "886         0       2    1  27.000000      0      0  13.0000         2\n",
            "887         1       1    0  19.000000      0      0  30.0000         2\n",
            "888         0       3    0  29.699118      1      2  23.4500         2\n",
            "889         1       1    1  26.000000      0      0  30.0000         0\n",
            "890         0       3    1  32.000000      0      0   7.7500         1\n",
            "\n",
            "[891 rows x 8 columns]\n",
            "     Survived  Pclass  Sex       Age  SibSp  Parch      Fare  Embarked\n",
            "0           0       3    1  34.50000      0      0    7.8292         1\n",
            "1           1       3    0  47.00000      1      0    7.0000         2\n",
            "2           0       2    1  62.00000      0      0    9.6875         1\n",
            "3           0       3    1  27.00000      0      0    8.6625         2\n",
            "4           1       3    0  22.00000      1      1   12.2875         2\n",
            "..        ...     ...  ...       ...    ...    ...       ...       ...\n",
            "413         0       3    1  30.27259      0      0    8.0500         2\n",
            "414         1       1    0  39.00000      0      0  108.9000         0\n",
            "415         0       3    1  38.50000      0      0    7.2500         2\n",
            "416         0       3    1  30.27259      0      0    8.0500         2\n",
            "417         0       3    1  30.27259      1      1   22.3583         0\n",
            "\n",
            "[418 rows x 8 columns]\n"
          ]
        },
        {
          "output_type": "execute_result",
          "data": {
            "text/plain": [
              "(None, None)"
            ]
          },
          "metadata": {},
          "execution_count": 20
        }
      ],
      "source": [
        "from sklearn.preprocessing import LabelEncoder\n",
        "le = LabelEncoder()\n",
        "df_train['Sex'] = le.fit_transform(df_train['Sex'])\n",
        "df_train['Embarked'] = le.fit_transform(df_train['Embarked'])\n",
        "df_test['Sex'] = le.fit_transform(df_test['Sex'])\n",
        "df_test['Embarked'] = le.fit_transform(df_test['Embarked'])\n",
        "print(df_train), print(df_test)"
      ]
    },
    {
      "cell_type": "markdown",
      "metadata": {
        "id": "Vrr0BPq2os1U"
      },
      "source": [
        "**Training and Testing using Logistic Regression GD**"
      ]
    },
    {
      "cell_type": "markdown",
      "source": [
        "**Data Normalization & Feature Selection**"
      ],
      "metadata": {
        "id": "zwoO4cXAsUCP"
      }
    },
    {
      "cell_type": "code",
      "source": [
        "data_train=df_train.copy()\n",
        "data_test=df_test.copy()\n",
        "\n",
        "training_data = data_train[['Survived', 'Pclass', 'Sex', 'Age', 'SibSp', 'Parch', 'Fare', 'Embarked']]\n",
        "testing_data = data_test[['Survived', 'Pclass', 'Sex', 'Age', 'SibSp', 'Parch', 'Fare', 'Embarked']]\n",
        "\n",
        "#print(X_train), print(y_train), print(X_test), print(y_test)\n",
        "#test_data"
      ],
      "metadata": {
        "id": "8BQFAi_2OAbk"
      },
      "execution_count": 21,
      "outputs": []
    },
    {
      "cell_type": "code",
      "source": [
        "Class_column=\"Survived\""
      ],
      "metadata": {
        "id": "q1jp700PYMB2"
      },
      "execution_count": 22,
      "outputs": []
    },
    {
      "cell_type": "code",
      "source": [
        "###\n",
        "def filtered_training_data(training_data_part,class_label):\n",
        "    \n",
        "    #Take Class Column out from Training Data and Store it to Another variable.\n",
        "    #Converting class_Column into array\n",
        "    #Dropping class Column from Training Data\n",
        "    \n",
        "    return(np.array(training_data_part[class_label]),training_data_part.drop(labels=class_label,axis=1))\n",
        "\n",
        "#Call to Function\n",
        "class_of_training_data,filtered_training_data=filtered_training_data(training_data,Class_column)\n",
        "\n",
        "\n",
        "###\n",
        "def normalize(data_to_noramlize):\n",
        "    \n",
        "    #Converting Training Data from type Dataframe to Array for Matrix Operation\n",
        "    pure_training_data=np.array(data_to_noramlize)\n",
        "    \n",
        "    #Dividing Each Column of Training Data with respective Column Maximium Value to Normalize the Dataset\n",
        "    return(pure_training_data/np.max(pure_training_data,axis=0))\n",
        "\n",
        "#Call to Function\n",
        "normalized_Data=normalize(filtered_training_data)"
      ],
      "metadata": {
        "id": "wsWEuwXaYcvE"
      },
      "execution_count": 23,
      "outputs": []
    },
    {
      "cell_type": "code",
      "source": [
        "def initial_parameter(normalized_Data_part):\n",
        "    \n",
        "    #Generating Initila HyperParameter Values\n",
        "    return(np.random.randn(1,1),np.random.randn(normalized_Data_part.shape[1],1))\n",
        "\n",
        "\n",
        "def sigmoid(normalized_Data_part,theta0_initial_val,theta_initial_val):\n",
        "    \n",
        "    #Multiplying Training Data with theta_initial and adding theta0_initial in all terms after mat. mul. operation.\n",
        "    power=theta0_initial_val+np.dot(normalized_Data_part,theta_initial_val)\n",
        "    \n",
        "    #Calculating eq (iii) for all training dataset\n",
        "    return(1/(1+ np.exp(-power)))\n",
        "\n",
        "\n",
        "def deri_wrt_theta0(temp,normalized_Data_part):\n",
        "    \n",
        "    #Derivative of Cost Function w.r.t to theta0 to Upgrade theta0 during Minimization\n",
        "    return((np.sum(temp))/normalized_Data_part.shape[0])\n",
        "\n",
        "\n",
        "def deri_wrt_theta(temp,normalized_Data_part,lam,theta_initial):\n",
        "    \n",
        "    \n",
        "    ##Derivative of Cost Function w.r.t to thetas(except theta0) to Upgrade thetas during Minimization - L2 Regularization \n",
        "    #term on upgrading thetas\n",
        "    return(((np.matmul((normalized_Data_part.T),temp))/normalized_Data_part.shape[0]) -\n",
        "           ((lam/normalized_Data_part.shape[0])*theta_initial))\n",
        "\n",
        "\n",
        "def cost_function(class_of_training_data,H_theta0_theta_A,theta_A,normalized_Data_part,lam):\n",
        "    a=np.matmul((class_of_training_data.T),np.log(H_theta0_theta_A))\n",
        "    b=np.matmul(((1-class_of_training_data).T),np.log(1-H_theta0_theta_A))\n",
        "    c=(a+b)/normalized_Data_part.shape[0]\n",
        "    d=(lam*np.sum(np.square(theta_A)))/2*normalized_Data_part.shape[0]\n",
        "    return(-c+d)\n",
        "    \n",
        "##just For Removing Ambiguity ,size is change from (n,) to (n,1)\n",
        "##No difference in overall shape and Data \n",
        "class_of_training_data=np.reshape(class_of_training_data,(training_data.shape[0],1))"
      ],
      "metadata": {
        "id": "wNq99O-eYd4n"
      },
      "execution_count": 24,
      "outputs": []
    },
    {
      "cell_type": "code",
      "source": [
        "def gradient_descent(alpha,epsilon,normalized_Data,class_of_training_data,lam):\n",
        "    #parameter's\n",
        "    #Alpha(Learning Rate)\n",
        "    #Epsilon : to stop gradient descent at proper minimized state\n",
        "    #lam(lambda) : For L2 Regularisation\n",
        "    \n",
        "    \n",
        "    #Call to Function\n",
        "    theta0_initial,theta_initial=initial_parameter(normalized_Data)\n",
        "    \n",
        "    i=0\n",
        "    iterations=[]\n",
        "    neg_log_like_loss = []\n",
        "    \n",
        "    while(True):\n",
        "        \n",
        "        #Call to Function\n",
        "        #Equation iv at theta0_initial ,theta_initial\n",
        "        H_theta0_theta_i=sigmoid(normalized_Data,theta0_initial,theta_initial)\n",
        "        \n",
        "    \n",
        "        #Calculating Difference between calculated H_theta0_theta_i and given class_of_training_data\n",
        "        Tem =H_theta0_theta_i-class_of_training_data\n",
        "        \n",
        "        #Call to Functions\n",
        "        Derivative_theta0 =deri_wrt_theta0(Tem,normalized_Data)\n",
        "        Derivative_thetas =deri_wrt_theta(Tem,normalized_Data,lam,theta_initial)\n",
        "        \n",
        "        \n",
        "        \n",
        "        #Equation No v at theta0_initial ,theta_initial with L2 Regularization\n",
        "        neg_log_like_initial= cost_function(class_of_training_data,H_theta0_theta_i,theta_initial,normalized_Data,lam)\n",
        "        \n",
        "        \n",
        "        #Updating the hyperparameters value\n",
        "        theta0_final = theta0_initial - alpha*Derivative_theta0\n",
        "        theta_final = theta_initial - alpha*Derivative_thetas\n",
        "        \n",
        "    \n",
        "        ##Equation iv at theta0_final,theta_final\n",
        "        H_theta0_theta_f = sigmoid(normalized_Data,theta0_final,theta_final)\n",
        "    \n",
        "        #Equation No v at theta0_final,theta_final with L2 Regularization\n",
        "        neg_log_like_final= cost_function(class_of_training_data,H_theta0_theta_f,theta_final,normalized_Data,lam)\n",
        "        \n",
        "        if abs(neg_log_like_initial - neg_log_like_final) < epsilon:\n",
        "            return(theta0_final,theta_final,iterations,neg_log_like_loss)\n",
        "            break\n",
        "            \n",
        "        theta0_initial = theta0_final\n",
        "        theta_initial = theta_final\n",
        "    \n",
        "        i += 1\n",
        "    \n",
        "        iterations.append(i)\n",
        "        neg_log_like_loss.append(neg_log_like_initial)"
      ],
      "metadata": {
        "id": "zio7DIiPYkbe"
      },
      "execution_count": 25,
      "outputs": []
    },
    {
      "cell_type": "code",
      "source": [
        "#call to gradient_Descent Function\n",
        "theta0_final,theta_final,iterations,neg_log_like_loss=gradient_descent(0.01,0.0000005\n",
        "                                                                       ,normalized_Data,class_of_training_data,0.0000001)"
      ],
      "metadata": {
        "id": "A7iZiC2CYsGl"
      },
      "execution_count": 13,
      "outputs": []
    },
    {
      "cell_type": "code",
      "source": [
        "import matplotlib.pyplot as plt\n",
        "plt.scatter(iterations,neg_log_like_loss,data=\"Logistic Regression\")\n",
        "plt.title('Minimization Curve of Cost Function in Logistic Regression')"
      ],
      "metadata": {
        "colab": {
          "base_uri": "https://localhost:8080/",
          "height": 298
        },
        "id": "fWYO-MRWYzjV",
        "outputId": "b36a69a2-a448-4504-c052-b9ee0fcb32af"
      },
      "execution_count": 26,
      "outputs": [
        {
          "output_type": "execute_result",
          "data": {
            "text/plain": [
              "Text(0.5, 1.0, 'Minimization Curve of Cost Function in Logistic Regression')"
            ]
          },
          "metadata": {},
          "execution_count": 26
        },
        {
          "output_type": "display_data",
          "data": {
            "text/plain": [
              "<Figure size 432x288 with 1 Axes>"
            ],
            "image/png": "[encoded data removed]"
          },
          "metadata": {
            "needs_background": "light"
          }
        }
      ]
    },
    {
      "cell_type": "code",
      "source": [
        "#pre-processing of testing data\n",
        "\n",
        "def testing(testing_data,Class_column):\n",
        "    \n",
        "    #Take Class Column out from Testing Data and Store it to Another variable.\n",
        "    #Converting class_Column into List(for Easy Implementation )\n",
        "    #Dropping class Column from Testing Data\n",
        "    #Normalizing the testing data\n",
        "    \n",
        "    class_of_testing_data=list(testing_data[Class_column])\n",
        "    filtered_testing_data=testing_data.drop(labels=Class_column,axis=1)\n",
        "    normalized_testing_Data=normalize(filtered_testing_data)\n",
        "    \n",
        "    return(class_of_testing_data,normalized_testing_Data)\n",
        "\n",
        "#Call to Function\n",
        "class_of_testing_data,normalized_testing_Data=testing(testing_data,Class_column)"
      ],
      "metadata": {
        "id": "MmeR3tSBY7kx"
      },
      "execution_count": 27,
      "outputs": []
    },
    {
      "cell_type": "code",
      "source": [
        "#Prediction of class (Training Data)\n",
        "def accuracy(normalized_training_Data,theta0_final,theta_final):\n",
        "    output_list=[]\n",
        "    \n",
        "    #calculating sigmoid function value for each data row in testing data\n",
        "    sigmoid_function_value=sigmoid(normalized_training_Data,theta0_final,theta_final)\n",
        "     \n",
        "    for i in sigmoid_function_value:\n",
        "        if i>=0.50:\n",
        "            output_list.append(1)\n",
        "        else:\n",
        "            output_list.append(0)\n",
        "    print(\"Accuracy Of Model on Training Data : \",accuracy_score(class_of_training_data,output_list))\n",
        "    print(\"Confusion Matrix :\\n\\n\",confusion_matrix(class_of_training_data,output_list))\n",
        "   \n",
        "    print(\"\\nCompleter Classification Report on Training Data :\\n\\n\",classification_report(class_of_training_data,output_list))\n",
        "    return (output_list)\n",
        "    \n",
        "    \n",
        "\n",
        "    \n",
        "#Call to Accuracy function to check Model Accuracy and others    \n",
        "output_predicted=accuracy(normalized_Data,theta0_final,theta_final)"
      ],
      "metadata": {
        "colab": {
          "base_uri": "https://localhost:8080/"
        },
        "id": "GU-Ub8jiY_9l",
        "outputId": "cef4f031-c64c-4585-aad2-75a62c027605"
      },
      "execution_count": 28,
      "outputs": [
        {
          "output_type": "stream",
          "name": "stdout",
          "text": [
            "Accuracy Of Model on Training Data :  0.7890011223344556\n",
            "Confusion Matrix :\n",
            "\n",
            " [[467  82]\n",
            " [106 236]]\n",
            "\n",
            "Completer Classification Report on Training Data :\n",
            "\n",
            "               precision    recall  f1-score   support\n",
            "\n",
            "           0       0.82      0.85      0.83       549\n",
            "           1       0.74      0.69      0.72       342\n",
            "\n",
            "    accuracy                           0.79       891\n",
            "   macro avg       0.78      0.77      0.77       891\n",
            "weighted avg       0.79      0.79      0.79       891\n",
            "\n"
          ]
        }
      ]
    },
    {
      "cell_type": "code",
      "source": [
        "#Prediction of class (Testing Data)\n",
        "def accuracy(normalized_testing_Data,theta0_final,theta_final):\n",
        "    output_list=[]\n",
        "    \n",
        "    #calculating sigmoid function value for each data row in testing data\n",
        "    sigmoid_function_value=sigmoid(normalized_testing_Data,theta0_final,theta_final)\n",
        "     \n",
        "    for i in sigmoid_function_value:\n",
        "        if i>=0.50:\n",
        "            output_list.append(1)\n",
        "        else:\n",
        "            output_list.append(0)\n",
        "    print(\"Accuracy Of Model on Testing Data : \",accuracy_score(class_of_testing_data,output_list))\n",
        "    print(\"Confusion Matrix :\\n\\n\",confusion_matrix(class_of_testing_data,output_list))\n",
        "   \n",
        "    print(\"\\nCompleter Classification Report on Testing Data :\\n\\n\",classification_report(class_of_testing_data,output_list))\n",
        "    return (output_list)\n",
        "    \n",
        "    \n",
        "\n",
        "    \n",
        "#Call to Accuracy function to check Model Accuracy and others    \n",
        "output_predicted=accuracy(normalized_testing_Data,theta0_final,theta_final)"
      ],
      "metadata": {
        "colab": {
          "base_uri": "https://localhost:8080/"
        },
        "outputId": "36b00fa0-633a-4a8d-e30d-1959a0ee1a3d",
        "id": "z3Sze7UftG-p"
      },
      "execution_count": 29,
      "outputs": [
        {
          "output_type": "stream",
          "name": "stdout",
          "text": [
            "Accuracy Of Model on Testing Data :  0.9665071770334929\n",
            "Confusion Matrix :\n",
            "\n",
            " [[259   7]\n",
            " [  7 145]]\n",
            "\n",
            "Completer Classification Report on Testing Data :\n",
            "\n",
            "               precision    recall  f1-score   support\n",
            "\n",
            "           0       0.97      0.97      0.97       266\n",
            "           1       0.95      0.95      0.95       152\n",
            "\n",
            "    accuracy                           0.97       418\n",
            "   macro avg       0.96      0.96      0.96       418\n",
            "weighted avg       0.97      0.97      0.97       418\n",
            "\n"
          ]
        }
      ]
    },
    {
      "cell_type": "code",
      "source": [
        "#parameters\n",
        "print(theta0_final), print(theta_final)"
      ],
      "metadata": {
        "colab": {
          "base_uri": "https://localhost:8080/"
        },
        "id": "CBO07cidiC2x",
        "outputId": "6eabc36d-e0b8-4170-feaf-9e7762c04e11"
      },
      "execution_count": 32,
      "outputs": [
        {
          "output_type": "stream",
          "name": "stdout",
          "text": [
            "[[3.20309735]]\n",
            "[[-2.21538042]\n",
            " [-2.45757496]\n",
            " [-0.85209086]\n",
            " [-1.40031132]\n",
            " [ 0.53513197]\n",
            " [ 1.70504581]\n",
            " [-0.53008191]]\n"
          ]
        },
        {
          "output_type": "execute_result",
          "data": {
            "text/plain": [
              "(None, None)"
            ]
          },
          "metadata": {},
          "execution_count": 32
        }
      ]
    }
  ]
}