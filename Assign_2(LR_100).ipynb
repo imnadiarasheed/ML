{
  "nbformat": 4,
  "nbformat_minor": 0,
  "metadata": {
    "colab": {
      "provenance": [],
      "authorship_tag": "ABX9TyP7h2P1wGMsufpm/UJbPGe7",
      "include_colab_link": true
    },
    "kernelspec": {
      "name": "python3",
      "display_name": "Python 3"
    },
    "language_info": {
      "name": "python"
    },
    "accelerator": "GPU",
    "gpuClass": "standard"
  },
  "cells": [
    {
      "cell_type": "markdown",
      "metadata": {
        "id": "view-in-github",
        "colab_type": "text"
      },
      "source": [
        "<a href=\"https://colab.research.google.com/github/imnadiarasheed/ML/blob/main/Assign_2(LR_100).ipynb\" target=\"_parent\"><img src=\"https://colab.research.google.com/assets/colab-badge.svg\" alt=\"Open In Colab\"/></a>"
      ]
    },
    {
      "cell_type": "code",
      "source": [
        "import numpy as np # linear algebra\n",
        "import pandas as pd # data processing\n",
        "from time import time # for timing predictions\n",
        "from sklearn.datasets import fetch_lfw_people  # sklearn.datasets fetch_ltw_people contains useful functions for loading the data\n",
        "from sklearn.model_selection import train_test_split # for creating test and train split\n",
        "from sklearn.decomposition import PCA #for PCA algorithm\n",
        "from sklearn.model_selection import GridSearchCV # tries all the combinations of the values passed in the dictionary and evaluates the model for each combination using the Cross-Validation method\n",
        "from sklearn.svm import SVC # to fit to the data you provide, returning a \"best fit\" hyperplane that divides, or categorizes, your data\n",
        "from sklearn.linear_model import LogisticRegression\n",
        "from sklearn.metrics import classification_report, accuracy_score, confusion_matrix #  report the performance evaluation metric\n",
        "import matplotlib.pyplot as plt #for displaying the photos with predictions\n",
        "import seaborn as sns"
      ],
      "metadata": {
        "execution": {
          "iopub.status.busy": "2022-06-09T17:34:59.963961Z",
          "iopub.execute_input": "2022-06-09T17:34:59.964341Z",
          "iopub.status.idle": "2022-06-09T17:34:59.977372Z",
          "shell.execute_reply.started": "2022-06-09T17:34:59.964311Z",
          "shell.execute_reply": "2022-06-09T17:34:59.976391Z"
        },
        "trusted": true,
        "id": "_mMwe29Acb52"
      },
      "execution_count": 1,
      "outputs": []
    },
    {
      "cell_type": "markdown",
      "source": [
        "Use sklearn.datasets.fetch_lfw_people function to retreive the data from the flw dataset in a useful format."
      ],
      "metadata": {
        "id": "whNpFCwscb54"
      }
    },
    {
      "cell_type": "code",
      "source": [
        "def getDataset():\n",
        "    ds = fetch_lfw_people(min_faces_per_person=100, resize=0.5) # get dataset labelled faces in the wild data with minimum number of faces per person\n",
        "    \n",
        "    return ds"
      ],
      "metadata": {
        "execution": {
          "iopub.status.busy": "2022-06-09T17:35:00.080465Z",
          "iopub.execute_input": "2022-06-09T17:35:00.081058Z",
          "iopub.status.idle": "2022-06-09T17:35:00.086623Z",
          "shell.execute_reply.started": "2022-06-09T17:35:00.08101Z",
          "shell.execute_reply": "2022-06-09T17:35:00.085667Z"
        },
        "trusted": true,
        "id": "Tuo-VqEVcb55"
      },
      "execution_count": 2,
      "outputs": []
    },
    {
      "cell_type": "code",
      "source": [
        "ds = getDataset() # get the data set"
      ],
      "metadata": {
        "execution": {
          "iopub.status.busy": "2022-06-09T17:35:00.151687Z",
          "iopub.execute_input": "2022-06-09T17:35:00.152098Z",
          "iopub.status.idle": "2022-06-09T17:35:00.260512Z",
          "shell.execute_reply.started": "2022-06-09T17:35:00.152067Z",
          "shell.execute_reply": "2022-06-09T17:35:00.259687Z"
        },
        "trusted": true,
        "id": "JqA_2Qivcb56"
      },
      "execution_count": 3,
      "outputs": []
    },
    {
      "cell_type": "code",
      "source": [
        "def getDatasetDetails(ds):\n",
        "    n_samples, height, width = ds.images.shape # gets number of samples, height and width of the images\n",
        "\n",
        "    X = ds.data # sets X as the data\n",
        "    n_features = X.shape[1] # gets the num of features\n",
        "\n",
        "    y = ds.target # the label to predict is the id of the person\n",
        "    target_names = ds.target_names # gets target names\n",
        "    n_classes = target_names.shape[0] # gets classes\n",
        "    \n",
        "    #prints num of samples, features and classes\n",
        "    print(\"Total DATASET size:\")\n",
        "    print(\"n_samples: %d\" % n_samples)\n",
        "    print(\"n_features: %d\" % n_features)\n",
        "    print(\"n_classes: %d\" % n_classes)\n",
        "\n",
        "    return n_samples, height, width, X, n_features, y, target_names, n_classes # returns values"
      ],
      "metadata": {
        "execution": {
          "iopub.status.busy": "2022-06-09T17:35:00.262051Z",
          "iopub.execute_input": "2022-06-09T17:35:00.262423Z",
          "iopub.status.idle": "2022-06-09T17:35:00.271772Z",
          "shell.execute_reply.started": "2022-06-09T17:35:00.262387Z",
          "shell.execute_reply": "2022-06-09T17:35:00.271043Z"
        },
        "trusted": true,
        "id": "kmbzRpnAcb57"
      },
      "execution_count": 4,
      "outputs": []
    },
    {
      "cell_type": "code",
      "source": [
        "def splitData(X, y):\n",
        "    X_train, X_test, y_train, y_test = train_test_split(X, y, test_size=0.20, random_state=42) # splits data \n",
        "\n",
        "    return X_train, X_test, y_train, y_test # returns split data"
      ],
      "metadata": {
        "execution": {
          "iopub.status.busy": "2022-06-09T17:35:00.284193Z",
          "iopub.execute_input": "2022-06-09T17:35:00.28471Z",
          "iopub.status.idle": "2022-06-09T17:35:00.290354Z",
          "shell.execute_reply.started": "2022-06-09T17:35:00.284673Z",
          "shell.execute_reply": "2022-06-09T17:35:00.289233Z"
        },
        "trusted": true,
        "id": "xwoUlCgjcb58"
      },
      "execution_count": 5,
      "outputs": []
    },
    {
      "cell_type": "code",
      "source": [
        "def dimensionalityReductionPCA(v_captured, X_train):\n",
        "    #print(\"Extracting the top %d eigenfaces from %d faces\"% (v_captured, X_train.shape[0])) # prints number of fisherfaces extracted from num of faces\n",
        "    t0 = time() # sets time flag\n",
        "    \n",
        "    pca = PCA(n_components=v_captured,whiten=True).fit(X_train) # Linear dimensionality reduction using Singular Value Decomposition of the data to project it to a lower dimensional space.\n",
        "    \n",
        "    print(\"done in %0.3fs\" % (time() - t0)) # prints the calculated time taken to process PCA\n",
        "    print(f\"Components Captured : {pca.n_components_}\") # Components captured by PCA\n",
        "    print(f\"Variance Captured : {sum(pca.explained_variance_ratio_)}\") # variance captured by PCA\n",
        "\n",
        "    return pca, pca.n_components_ # returns values"
      ],
      "metadata": {
        "execution": {
          "iopub.status.busy": "2022-06-09T17:35:00.356151Z",
          "iopub.execute_input": "2022-06-09T17:35:00.356768Z",
          "iopub.status.idle": "2022-06-09T17:35:00.363903Z",
          "shell.execute_reply.started": "2022-06-09T17:35:00.356721Z",
          "shell.execute_reply": "2022-06-09T17:35:00.363251Z"
        },
        "trusted": true,
        "id": "-OsUo20Rcb59"
      },
      "execution_count": 6,
      "outputs": []
    },
    {
      "cell_type": "code",
      "source": [
        "def trainTextTransformModel(model, X_train, X_test):\n",
        "    #print(\"Projecting the input data on the eigenfaces orthonormal basis\") # print process of projecting input data\n",
        "    t0 = time() # set time flag\n",
        "    \n",
        "    X_train_model = model.transform(X_train) # transform X train model\n",
        "    X_test_model = model.transform(X_test) # transform X test model\n",
        "    #print(\"done in %0.3fs\" % (time() - t0)) # print calculated time for transforming model\n",
        "\n",
        "    return X_train_model, X_test_model # return values"
      ],
      "metadata": {
        "execution": {
          "iopub.status.busy": "2022-06-09T17:35:00.48863Z",
          "iopub.execute_input": "2022-06-09T17:35:00.489036Z",
          "iopub.status.idle": "2022-06-09T17:35:00.496494Z",
          "shell.execute_reply.started": "2022-06-09T17:35:00.489003Z",
          "shell.execute_reply": "2022-06-09T17:35:00.495351Z"
        },
        "trusted": true,
        "id": "hpW7hoZmcb5-"
      },
      "execution_count": 7,
      "outputs": []
    },
    {
      "cell_type": "code",
      "source": [
        "def classificationLR(X_train_model, y_train):\n",
        "    print(\"Fitting the classifier to the training set\") # prints the process of fitting the classifier\n",
        "    t0 = time() # sets time flag\n",
        "    param = {'C': [1e6,1e7,1e8,1e9,1e10], 'max_iter':[100,500,1000]}\n",
        "    clf = GridSearchCV(LogisticRegression(fit_intercept=False,multi_class='ovr'),param, cv=5)\n",
        "    clf = clf.fit(X_train_model, y_train) # fits the clf model\n",
        "    print(\"done in %0.3fs\" % (time() - t0)) # prints the calculated time to create grid, process and fit clf\n",
        "    print(\"Best estimator found by grid search:\") # prints the best estimator using the grid search\n",
        "    print(clf.best_estimator_)\n",
        "\n",
        "    return clf # return value"
      ],
      "metadata": {
        "execution": {
          "iopub.status.busy": "2022-06-09T17:35:00.624962Z",
          "iopub.execute_input": "2022-06-09T17:35:00.625949Z",
          "iopub.status.idle": "2022-06-09T17:35:00.633102Z",
          "shell.execute_reply.started": "2022-06-09T17:35:00.625915Z",
          "shell.execute_reply": "2022-06-09T17:35:00.632315Z"
        },
        "trusted": true,
        "id": "qTcBjYitcb5_"
      },
      "execution_count": 8,
      "outputs": []
    },
    {
      "cell_type": "code",
      "source": [
        "def prediction(model, data):\n",
        "    print(\"Predicting people's names on the test set\") # printing the process of predicting names on test set\n",
        "    t0 = time() # set time flag\n",
        "    y_pred = model.predict(data) # create prediction\n",
        "    print(\"done in %0.3fs\" % (time() - t0)) # print the calculated time to process prediction\n",
        "\n",
        "    return y_pred # return values"
      ],
      "metadata": {
        "execution": {
          "iopub.status.busy": "2022-06-09T17:35:00.69166Z",
          "iopub.execute_input": "2022-06-09T17:35:00.692678Z",
          "iopub.status.idle": "2022-06-09T17:35:00.697978Z",
          "shell.execute_reply.started": "2022-06-09T17:35:00.692639Z",
          "shell.execute_reply": "2022-06-09T17:35:00.697269Z"
        },
        "trusted": true,
        "id": "bijdc22ocb6A"
      },
      "execution_count": 9,
      "outputs": []
    },
    {
      "cell_type": "code",
      "source": [
        "def Accuracy(y_test, y_pred):\n",
        "    return accuracy_score(y_test, y_pred)\n",
        "    #print(classification_report(y_test, y_pred)) # prints classification report\n",
        "    #print(confusion_matrix(y_test, y_pred, labels=range(n_classes))) # prints confusion matrix"
      ],
      "metadata": {
        "execution": {
          "iopub.status.busy": "2022-06-09T17:35:00.785695Z",
          "iopub.execute_input": "2022-06-09T17:35:00.786104Z",
          "iopub.status.idle": "2022-06-09T17:35:00.791171Z",
          "shell.execute_reply.started": "2022-06-09T17:35:00.786072Z",
          "shell.execute_reply": "2022-06-09T17:35:00.790442Z"
        },
        "trusted": true,
        "id": "Y6ScTmPzcb6A"
      },
      "execution_count": 10,
      "outputs": []
    },
    {
      "cell_type": "code",
      "source": [
        "n_samples, height, width, X, n_features, y, target_names, n_classes = getDatasetDetails(ds) # use getDatasetDetails to get dataset details"
      ],
      "metadata": {
        "execution": {
          "iopub.status.busy": "2022-06-09T17:35:01.058638Z",
          "iopub.execute_input": "2022-06-09T17:35:01.059037Z",
          "iopub.status.idle": "2022-06-09T17:35:01.064447Z",
          "shell.execute_reply.started": "2022-06-09T17:35:01.059007Z",
          "shell.execute_reply": "2022-06-09T17:35:01.06332Z"
        },
        "trusted": true,
        "colab": {
          "base_uri": "https://localhost:8080/"
        },
        "id": "l1XbVWQQcb6D",
        "outputId": "2e0dd95d-ed2b-4c0b-9be7-a9c579d7e7f3"
      },
      "execution_count": 11,
      "outputs": [
        {
          "output_type": "stream",
          "name": "stdout",
          "text": [
            "Total DATASET size:\n",
            "n_samples: 1140\n",
            "n_features: 2914\n",
            "n_classes: 5\n"
          ]
        }
      ]
    },
    {
      "cell_type": "code",
      "source": [
        "X_train, X_test, y_train, y_test = splitData(X, y) #split data into test and train (x and y)"
      ],
      "metadata": {
        "execution": {
          "iopub.status.busy": "2022-06-09T17:35:01.122402Z",
          "iopub.execute_input": "2022-06-09T17:35:01.123474Z",
          "iopub.status.idle": "2022-06-09T17:35:01.133316Z",
          "shell.execute_reply.started": "2022-06-09T17:35:01.123395Z",
          "shell.execute_reply": "2022-06-09T17:35:01.13241Z"
        },
        "trusted": true,
        "id": "4Qa7AzHvcb6E"
      },
      "execution_count": 12,
      "outputs": []
    },
    {
      "cell_type": "code",
      "source": [
        "variance_captured=[]\n",
        "principal_components=[]\n",
        "accuracy=[]"
      ],
      "metadata": {
        "id": "Mgd4qkIEAlx4"
      },
      "execution_count": 13,
      "outputs": []
    },
    {
      "cell_type": "markdown",
      "source": [
        "**Accuracy Check W/O PCA**"
      ],
      "metadata": {
        "id": "0PDqoJOnpv8v"
      }
    },
    {
      "cell_type": "code",
      "source": [
        "clf = classificationLR(X_train, y_train) # create clf model using classification function"
      ],
      "metadata": {
        "execution": {
          "iopub.status.busy": "2022-06-09T17:35:09.008115Z",
          "iopub.execute_input": "2022-06-09T17:35:09.011179Z",
          "iopub.status.idle": "2022-06-09T17:35:24.240018Z",
          "shell.execute_reply.started": "2022-06-09T17:35:09.011117Z",
          "shell.execute_reply": "2022-06-09T17:35:24.239312Z"
        },
        "trusted": true,
        "colab": {
          "base_uri": "https://localhost:8080/"
        },
        "outputId": "d2637536-0871-4dd6-b006-988062bb94d1",
        "id": "-BY9YPwwS3Xz"
      },
      "execution_count": 14,
      "outputs": [
        {
          "output_type": "stream",
          "name": "stdout",
          "text": [
            "Fitting the classifier to the training set\n"
          ]
        },
        {
          "output_type": "stream",
          "name": "stderr",
          "text": [
            "/usr/local/lib/python3.8/dist-packages/sklearn/linear_model/_logistic.py:814: ConvergenceWarning: lbfgs failed to converge (status=1):\n",
            "STOP: TOTAL NO. of ITERATIONS REACHED LIMIT.\n",
            "\n",
            "Increase the number of iterations (max_iter) or scale the data as shown in:\n",
            "    https://scikit-learn.org/stable/modules/preprocessing.html\n",
            "Please also refer to the documentation for alternative solver options:\n",
            "    https://scikit-learn.org/stable/modules/linear_model.html#logistic-regression\n",
            "  n_iter_i = _check_optimize_result(\n",
            "/usr/local/lib/python3.8/dist-packages/sklearn/linear_model/_logistic.py:814: ConvergenceWarning: lbfgs failed to converge (status=1):\n",
            "STOP: TOTAL NO. of ITERATIONS REACHED LIMIT.\n",
            "\n",
            "Increase the number of iterations (max_iter) or scale the data as shown in:\n",
            "    https://scikit-learn.org/stable/modules/preprocessing.html\n",
            "Please also refer to the documentation for alternative solver options:\n",
            "    https://scikit-learn.org/stable/modules/linear_model.html#logistic-regression\n",
            "  n_iter_i = _check_optimize_result(\n",
            "/usr/local/lib/python3.8/dist-packages/sklearn/linear_model/_logistic.py:814: ConvergenceWarning: lbfgs failed to converge (status=1):\n",
            "STOP: TOTAL NO. of ITERATIONS REACHED LIMIT.\n",
            "\n",
            "Increase the number of iterations (max_iter) or scale the data as shown in:\n",
            "    https://scikit-learn.org/stable/modules/preprocessing.html\n",
            "Please also refer to the documentation for alternative solver options:\n",
            "    https://scikit-learn.org/stable/modules/linear_model.html#logistic-regression\n",
            "  n_iter_i = _check_optimize_result(\n",
            "/usr/local/lib/python3.8/dist-packages/sklearn/linear_model/_logistic.py:814: ConvergenceWarning: lbfgs failed to converge (status=1):\n",
            "STOP: TOTAL NO. of ITERATIONS REACHED LIMIT.\n",
            "\n",
            "Increase the number of iterations (max_iter) or scale the data as shown in:\n",
            "    https://scikit-learn.org/stable/modules/preprocessing.html\n",
            "Please also refer to the documentation for alternative solver options:\n",
            "    https://scikit-learn.org/stable/modules/linear_model.html#logistic-regression\n",
            "  n_iter_i = _check_optimize_result(\n",
            "/usr/local/lib/python3.8/dist-packages/sklearn/linear_model/_logistic.py:814: ConvergenceWarning: lbfgs failed to converge (status=1):\n",
            "STOP: TOTAL NO. of ITERATIONS REACHED LIMIT.\n",
            "\n",
            "Increase the number of iterations (max_iter) or scale the data as shown in:\n",
            "    https://scikit-learn.org/stable/modules/preprocessing.html\n",
            "Please also refer to the documentation for alternative solver options:\n",
            "    https://scikit-learn.org/stable/modules/linear_model.html#logistic-regression\n",
            "  n_iter_i = _check_optimize_result(\n",
            "/usr/local/lib/python3.8/dist-packages/sklearn/linear_model/_logistic.py:814: ConvergenceWarning: lbfgs failed to converge (status=1):\n",
            "STOP: TOTAL NO. of ITERATIONS REACHED LIMIT.\n",
            "\n",
            "Increase the number of iterations (max_iter) or scale the data as shown in:\n",
            "    https://scikit-learn.org/stable/modules/preprocessing.html\n",
            "Please also refer to the documentation for alternative solver options:\n",
            "    https://scikit-learn.org/stable/modules/linear_model.html#logistic-regression\n",
            "  n_iter_i = _check_optimize_result(\n",
            "/usr/local/lib/python3.8/dist-packages/sklearn/linear_model/_logistic.py:814: ConvergenceWarning: lbfgs failed to converge (status=1):\n",
            "STOP: TOTAL NO. of ITERATIONS REACHED LIMIT.\n",
            "\n",
            "Increase the number of iterations (max_iter) or scale the data as shown in:\n",
            "    https://scikit-learn.org/stable/modules/preprocessing.html\n",
            "Please also refer to the documentation for alternative solver options:\n",
            "    https://scikit-learn.org/stable/modules/linear_model.html#logistic-regression\n",
            "  n_iter_i = _check_optimize_result(\n",
            "/usr/local/lib/python3.8/dist-packages/sklearn/linear_model/_logistic.py:814: ConvergenceWarning: lbfgs failed to converge (status=1):\n",
            "STOP: TOTAL NO. of ITERATIONS REACHED LIMIT.\n",
            "\n",
            "Increase the number of iterations (max_iter) or scale the data as shown in:\n",
            "    https://scikit-learn.org/stable/modules/preprocessing.html\n",
            "Please also refer to the documentation for alternative solver options:\n",
            "    https://scikit-learn.org/stable/modules/linear_model.html#logistic-regression\n",
            "  n_iter_i = _check_optimize_result(\n",
            "/usr/local/lib/python3.8/dist-packages/sklearn/linear_model/_logistic.py:814: ConvergenceWarning: lbfgs failed to converge (status=1):\n",
            "STOP: TOTAL NO. of ITERATIONS REACHED LIMIT.\n",
            "\n",
            "Increase the number of iterations (max_iter) or scale the data as shown in:\n",
            "    https://scikit-learn.org/stable/modules/preprocessing.html\n",
            "Please also refer to the documentation for alternative solver options:\n",
            "    https://scikit-learn.org/stable/modules/linear_model.html#logistic-regression\n",
            "  n_iter_i = _check_optimize_result(\n",
            "/usr/local/lib/python3.8/dist-packages/sklearn/linear_model/_logistic.py:814: ConvergenceWarning: lbfgs failed to converge (status=1):\n",
            "STOP: TOTAL NO. of ITERATIONS REACHED LIMIT.\n",
            "\n",
            "Increase the number of iterations (max_iter) or scale the data as shown in:\n",
            "    https://scikit-learn.org/stable/modules/preprocessing.html\n",
            "Please also refer to the documentation for alternative solver options:\n",
            "    https://scikit-learn.org/stable/modules/linear_model.html#logistic-regression\n",
            "  n_iter_i = _check_optimize_result(\n",
            "/usr/local/lib/python3.8/dist-packages/sklearn/linear_model/_logistic.py:814: ConvergenceWarning: lbfgs failed to converge (status=1):\n",
            "STOP: TOTAL NO. of ITERATIONS REACHED LIMIT.\n",
            "\n",
            "Increase the number of iterations (max_iter) or scale the data as shown in:\n",
            "    https://scikit-learn.org/stable/modules/preprocessing.html\n",
            "Please also refer to the documentation for alternative solver options:\n",
            "    https://scikit-learn.org/stable/modules/linear_model.html#logistic-regression\n",
            "  n_iter_i = _check_optimize_result(\n",
            "/usr/local/lib/python3.8/dist-packages/sklearn/linear_model/_logistic.py:814: ConvergenceWarning: lbfgs failed to converge (status=1):\n",
            "STOP: TOTAL NO. of ITERATIONS REACHED LIMIT.\n",
            "\n",
            "Increase the number of iterations (max_iter) or scale the data as shown in:\n",
            "    https://scikit-learn.org/stable/modules/preprocessing.html\n",
            "Please also refer to the documentation for alternative solver options:\n",
            "    https://scikit-learn.org/stable/modules/linear_model.html#logistic-regression\n",
            "  n_iter_i = _check_optimize_result(\n"
          ]
        },
        {
          "output_type": "stream",
          "name": "stdout",
          "text": [
            "done in 78.384s\n",
            "Best estimator found by grid search:\n",
            "LogisticRegression(C=10000000.0, fit_intercept=False, multi_class='ovr')\n"
          ]
        }
      ]
    },
    {
      "cell_type": "code",
      "source": [
        "y_pred = prediction(clf, X_test) # create prediction"
      ],
      "metadata": {
        "execution": {
          "iopub.status.busy": "2022-06-09T17:35:24.240998Z",
          "iopub.execute_input": "2022-06-09T17:35:24.24148Z",
          "iopub.status.idle": "2022-06-09T17:35:24.300144Z",
          "shell.execute_reply.started": "2022-06-09T17:35:24.241448Z",
          "shell.execute_reply": "2022-06-09T17:35:24.299135Z"
        },
        "trusted": true,
        "colab": {
          "base_uri": "https://localhost:8080/"
        },
        "outputId": "8093646e-b668-4351-ab52-834d1d44ce08",
        "id": "CB3P4ExYUWsV"
      },
      "execution_count": 15,
      "outputs": [
        {
          "output_type": "stream",
          "name": "stdout",
          "text": [
            "Predicting people's names on the test set\n",
            "done in 0.005s\n"
          ]
        }
      ]
    },
    {
      "cell_type": "code",
      "source": [
        "acc = Accuracy(y_test, y_pred)\n",
        "print(acc)"
      ],
      "metadata": {
        "execution": {
          "iopub.status.busy": "2022-06-09T17:35:24.302246Z",
          "iopub.execute_input": "2022-06-09T17:35:24.302637Z",
          "iopub.status.idle": "2022-06-09T17:35:24.314011Z",
          "shell.execute_reply.started": "2022-06-09T17:35:24.302605Z",
          "shell.execute_reply": "2022-06-09T17:35:24.313254Z"
        },
        "trusted": true,
        "colab": {
          "base_uri": "https://localhost:8080/"
        },
        "outputId": "d9a2afd8-6fb4-4f64-d613-7d520093060a",
        "id": "yBjDM7hcUWs1"
      },
      "execution_count": 16,
      "outputs": [
        {
          "output_type": "stream",
          "name": "stdout",
          "text": [
            "0.8552631578947368\n"
          ]
        }
      ]
    },
    {
      "cell_type": "markdown",
      "source": [
        "**PCA (97%)**"
      ],
      "metadata": {
        "id": "HK9Ep60Hcb6G"
      }
    },
    {
      "cell_type": "code",
      "source": [
        "v_captured = .97\n",
        "variance_captured.append(v_captured)\n",
        "\n",
        "pca, n_comp = dimensionalityReductionPCA(v_captured, X_train) # create eigenfaces and pca values from function taking training data and components, etc\n",
        "principal_components.append(n_comp)\n",
        "X_train_pca, X_test_pca = trainTextTransformModel(pca, X_train, X_test) # create pca train and test values using function"
      ],
      "metadata": {
        "execution": {
          "iopub.status.busy": "2022-06-09T17:35:08.563317Z",
          "iopub.execute_input": "2022-06-09T17:35:08.56411Z",
          "iopub.status.idle": "2022-06-09T17:35:09.001903Z",
          "shell.execute_reply.started": "2022-06-09T17:35:08.564058Z",
          "shell.execute_reply": "2022-06-09T17:35:09.000804Z"
        },
        "trusted": true,
        "colab": {
          "base_uri": "https://localhost:8080/"
        },
        "id": "0VNm_jftcb6H",
        "outputId": "7b3f4ac4-f0b8-48c3-ab14-0139dbdbcb74"
      },
      "execution_count": 17,
      "outputs": [
        {
          "output_type": "stream",
          "name": "stdout",
          "text": [
            "done in 0.928s\n",
            "Components Captured : 209\n",
            "Variance Captured : 0.9702150573575636\n"
          ]
        }
      ]
    },
    {
      "cell_type": "code",
      "source": [
        "clf = classificationLR(X_train_pca, y_train) # create clf model using classification function"
      ],
      "metadata": {
        "execution": {
          "iopub.status.busy": "2022-06-09T17:35:09.008115Z",
          "iopub.execute_input": "2022-06-09T17:35:09.011179Z",
          "iopub.status.idle": "2022-06-09T17:35:24.240018Z",
          "shell.execute_reply.started": "2022-06-09T17:35:09.011117Z",
          "shell.execute_reply": "2022-06-09T17:35:24.239312Z"
        },
        "trusted": true,
        "colab": {
          "base_uri": "https://localhost:8080/"
        },
        "id": "W3tR_qTdcb6H",
        "outputId": "eef2e805-cd41-4410-c846-77ab7c36f391"
      },
      "execution_count": 18,
      "outputs": [
        {
          "output_type": "stream",
          "name": "stdout",
          "text": [
            "Fitting the classifier to the training set\n",
            "done in 5.799s\n",
            "Best estimator found by grid search:\n",
            "LogisticRegression(C=100000000.0, fit_intercept=False, multi_class='ovr')\n"
          ]
        }
      ]
    },
    {
      "cell_type": "code",
      "source": [
        "y_pred = prediction(clf, X_test_pca) # create prediction"
      ],
      "metadata": {
        "execution": {
          "iopub.status.busy": "2022-06-09T17:35:24.240998Z",
          "iopub.execute_input": "2022-06-09T17:35:24.24148Z",
          "iopub.status.idle": "2022-06-09T17:35:24.300144Z",
          "shell.execute_reply.started": "2022-06-09T17:35:24.241448Z",
          "shell.execute_reply": "2022-06-09T17:35:24.299135Z"
        },
        "trusted": true,
        "colab": {
          "base_uri": "https://localhost:8080/"
        },
        "id": "1itvLb_bcb6H",
        "outputId": "9a1b55a0-9aa2-4cff-9a7d-7d974662f326"
      },
      "execution_count": 19,
      "outputs": [
        {
          "output_type": "stream",
          "name": "stdout",
          "text": [
            "Predicting people's names on the test set\n",
            "done in 0.001s\n"
          ]
        }
      ]
    },
    {
      "cell_type": "code",
      "source": [
        "acc = Accuracy(y_test, y_pred)\n",
        "print(acc)\n",
        "accuracy.append(acc)"
      ],
      "metadata": {
        "execution": {
          "iopub.status.busy": "2022-06-09T17:35:24.302246Z",
          "iopub.execute_input": "2022-06-09T17:35:24.302637Z",
          "iopub.status.idle": "2022-06-09T17:35:24.314011Z",
          "shell.execute_reply.started": "2022-06-09T17:35:24.302605Z",
          "shell.execute_reply": "2022-06-09T17:35:24.313254Z"
        },
        "trusted": true,
        "colab": {
          "base_uri": "https://localhost:8080/"
        },
        "id": "1oCRT4H3cb6I",
        "outputId": "33addd6f-e92b-4a98-8be9-068320194daa"
      },
      "execution_count": 20,
      "outputs": [
        {
          "output_type": "stream",
          "name": "stdout",
          "text": [
            "0.8464912280701754\n"
          ]
        }
      ]
    },
    {
      "cell_type": "markdown",
      "source": [
        "**PCA (95%)**"
      ],
      "metadata": {
        "id": "iajoVJ0XpoHX"
      }
    },
    {
      "cell_type": "code",
      "source": [
        "v_captured = .95\n",
        "variance_captured.append(v_captured)\n",
        "\n",
        "pca, n_comp = dimensionalityReductionPCA(v_captured, X_train) # create eigenfaces and pca values from function taking training data and components, etc\n",
        "principal_components.append(n_comp)\n",
        "X_train_pca, X_test_pca = trainTextTransformModel(pca, X_train, X_test) # create pca train and test values using function"
      ],
      "metadata": {
        "execution": {
          "iopub.status.busy": "2022-06-09T17:35:08.563317Z",
          "iopub.execute_input": "2022-06-09T17:35:08.56411Z",
          "iopub.status.idle": "2022-06-09T17:35:09.001903Z",
          "shell.execute_reply.started": "2022-06-09T17:35:08.564058Z",
          "shell.execute_reply": "2022-06-09T17:35:09.000804Z"
        },
        "trusted": true,
        "colab": {
          "base_uri": "https://localhost:8080/"
        },
        "outputId": "8d7e2413-c356-4af6-cbc8-36e2f64c630e",
        "id": "_4D8OQMKpoHg"
      },
      "execution_count": 21,
      "outputs": [
        {
          "output_type": "stream",
          "name": "stdout",
          "text": [
            "done in 0.782s\n",
            "Components Captured : 147\n",
            "Variance Captured : 0.9501648420409765\n"
          ]
        }
      ]
    },
    {
      "cell_type": "code",
      "source": [
        "clf = classificationLR(X_train_pca, y_train) # create clf model using classification function"
      ],
      "metadata": {
        "execution": {
          "iopub.status.busy": "2022-06-09T17:35:09.008115Z",
          "iopub.execute_input": "2022-06-09T17:35:09.011179Z",
          "iopub.status.idle": "2022-06-09T17:35:24.240018Z",
          "shell.execute_reply.started": "2022-06-09T17:35:09.011117Z",
          "shell.execute_reply": "2022-06-09T17:35:24.239312Z"
        },
        "trusted": true,
        "colab": {
          "base_uri": "https://localhost:8080/"
        },
        "outputId": "d411e6c3-ecab-4666-bb91-32210f33a23d",
        "id": "GW64md8vpoHh"
      },
      "execution_count": 22,
      "outputs": [
        {
          "output_type": "stream",
          "name": "stdout",
          "text": [
            "Fitting the classifier to the training set\n"
          ]
        },
        {
          "output_type": "stream",
          "name": "stderr",
          "text": [
            "/usr/local/lib/python3.8/dist-packages/sklearn/linear_model/_logistic.py:814: ConvergenceWarning: lbfgs failed to converge (status=1):\n",
            "STOP: TOTAL NO. of ITERATIONS REACHED LIMIT.\n",
            "\n",
            "Increase the number of iterations (max_iter) or scale the data as shown in:\n",
            "    https://scikit-learn.org/stable/modules/preprocessing.html\n",
            "Please also refer to the documentation for alternative solver options:\n",
            "    https://scikit-learn.org/stable/modules/linear_model.html#logistic-regression\n",
            "  n_iter_i = _check_optimize_result(\n",
            "/usr/local/lib/python3.8/dist-packages/sklearn/linear_model/_logistic.py:814: ConvergenceWarning: lbfgs failed to converge (status=1):\n",
            "STOP: TOTAL NO. of ITERATIONS REACHED LIMIT.\n",
            "\n",
            "Increase the number of iterations (max_iter) or scale the data as shown in:\n",
            "    https://scikit-learn.org/stable/modules/preprocessing.html\n",
            "Please also refer to the documentation for alternative solver options:\n",
            "    https://scikit-learn.org/stable/modules/linear_model.html#logistic-regression\n",
            "  n_iter_i = _check_optimize_result(\n",
            "/usr/local/lib/python3.8/dist-packages/sklearn/linear_model/_logistic.py:814: ConvergenceWarning: lbfgs failed to converge (status=1):\n",
            "STOP: TOTAL NO. of ITERATIONS REACHED LIMIT.\n",
            "\n",
            "Increase the number of iterations (max_iter) or scale the data as shown in:\n",
            "    https://scikit-learn.org/stable/modules/preprocessing.html\n",
            "Please also refer to the documentation for alternative solver options:\n",
            "    https://scikit-learn.org/stable/modules/linear_model.html#logistic-regression\n",
            "  n_iter_i = _check_optimize_result(\n",
            "/usr/local/lib/python3.8/dist-packages/sklearn/linear_model/_logistic.py:814: ConvergenceWarning: lbfgs failed to converge (status=1):\n",
            "STOP: TOTAL NO. of ITERATIONS REACHED LIMIT.\n",
            "\n",
            "Increase the number of iterations (max_iter) or scale the data as shown in:\n",
            "    https://scikit-learn.org/stable/modules/preprocessing.html\n",
            "Please also refer to the documentation for alternative solver options:\n",
            "    https://scikit-learn.org/stable/modules/linear_model.html#logistic-regression\n",
            "  n_iter_i = _check_optimize_result(\n",
            "/usr/local/lib/python3.8/dist-packages/sklearn/linear_model/_logistic.py:814: ConvergenceWarning: lbfgs failed to converge (status=1):\n",
            "STOP: TOTAL NO. of ITERATIONS REACHED LIMIT.\n",
            "\n",
            "Increase the number of iterations (max_iter) or scale the data as shown in:\n",
            "    https://scikit-learn.org/stable/modules/preprocessing.html\n",
            "Please also refer to the documentation for alternative solver options:\n",
            "    https://scikit-learn.org/stable/modules/linear_model.html#logistic-regression\n",
            "  n_iter_i = _check_optimize_result(\n",
            "/usr/local/lib/python3.8/dist-packages/sklearn/linear_model/_logistic.py:814: ConvergenceWarning: lbfgs failed to converge (status=1):\n",
            "STOP: TOTAL NO. of ITERATIONS REACHED LIMIT.\n",
            "\n",
            "Increase the number of iterations (max_iter) or scale the data as shown in:\n",
            "    https://scikit-learn.org/stable/modules/preprocessing.html\n",
            "Please also refer to the documentation for alternative solver options:\n",
            "    https://scikit-learn.org/stable/modules/linear_model.html#logistic-regression\n",
            "  n_iter_i = _check_optimize_result(\n",
            "/usr/local/lib/python3.8/dist-packages/sklearn/linear_model/_logistic.py:814: ConvergenceWarning: lbfgs failed to converge (status=1):\n",
            "STOP: TOTAL NO. of ITERATIONS REACHED LIMIT.\n",
            "\n",
            "Increase the number of iterations (max_iter) or scale the data as shown in:\n",
            "    https://scikit-learn.org/stable/modules/preprocessing.html\n",
            "Please also refer to the documentation for alternative solver options:\n",
            "    https://scikit-learn.org/stable/modules/linear_model.html#logistic-regression\n",
            "  n_iter_i = _check_optimize_result(\n",
            "/usr/local/lib/python3.8/dist-packages/sklearn/linear_model/_logistic.py:814: ConvergenceWarning: lbfgs failed to converge (status=1):\n",
            "STOP: TOTAL NO. of ITERATIONS REACHED LIMIT.\n",
            "\n",
            "Increase the number of iterations (max_iter) or scale the data as shown in:\n",
            "    https://scikit-learn.org/stable/modules/preprocessing.html\n",
            "Please also refer to the documentation for alternative solver options:\n",
            "    https://scikit-learn.org/stable/modules/linear_model.html#logistic-regression\n",
            "  n_iter_i = _check_optimize_result(\n",
            "/usr/local/lib/python3.8/dist-packages/sklearn/linear_model/_logistic.py:814: ConvergenceWarning: lbfgs failed to converge (status=1):\n",
            "STOP: TOTAL NO. of ITERATIONS REACHED LIMIT.\n",
            "\n",
            "Increase the number of iterations (max_iter) or scale the data as shown in:\n",
            "    https://scikit-learn.org/stable/modules/preprocessing.html\n",
            "Please also refer to the documentation for alternative solver options:\n",
            "    https://scikit-learn.org/stable/modules/linear_model.html#logistic-regression\n",
            "  n_iter_i = _check_optimize_result(\n",
            "/usr/local/lib/python3.8/dist-packages/sklearn/linear_model/_logistic.py:814: ConvergenceWarning: lbfgs failed to converge (status=1):\n",
            "STOP: TOTAL NO. of ITERATIONS REACHED LIMIT.\n",
            "\n",
            "Increase the number of iterations (max_iter) or scale the data as shown in:\n",
            "    https://scikit-learn.org/stable/modules/preprocessing.html\n",
            "Please also refer to the documentation for alternative solver options:\n",
            "    https://scikit-learn.org/stable/modules/linear_model.html#logistic-regression\n",
            "  n_iter_i = _check_optimize_result(\n",
            "/usr/local/lib/python3.8/dist-packages/sklearn/linear_model/_logistic.py:814: ConvergenceWarning: lbfgs failed to converge (status=1):\n",
            "STOP: TOTAL NO. of ITERATIONS REACHED LIMIT.\n",
            "\n",
            "Increase the number of iterations (max_iter) or scale the data as shown in:\n",
            "    https://scikit-learn.org/stable/modules/preprocessing.html\n",
            "Please also refer to the documentation for alternative solver options:\n",
            "    https://scikit-learn.org/stable/modules/linear_model.html#logistic-regression\n",
            "  n_iter_i = _check_optimize_result(\n",
            "/usr/local/lib/python3.8/dist-packages/sklearn/linear_model/_logistic.py:814: ConvergenceWarning: lbfgs failed to converge (status=1):\n",
            "STOP: TOTAL NO. of ITERATIONS REACHED LIMIT.\n",
            "\n",
            "Increase the number of iterations (max_iter) or scale the data as shown in:\n",
            "    https://scikit-learn.org/stable/modules/preprocessing.html\n",
            "Please also refer to the documentation for alternative solver options:\n",
            "    https://scikit-learn.org/stable/modules/linear_model.html#logistic-regression\n",
            "  n_iter_i = _check_optimize_result(\n",
            "/usr/local/lib/python3.8/dist-packages/sklearn/linear_model/_logistic.py:814: ConvergenceWarning: lbfgs failed to converge (status=1):\n",
            "STOP: TOTAL NO. of ITERATIONS REACHED LIMIT.\n",
            "\n",
            "Increase the number of iterations (max_iter) or scale the data as shown in:\n",
            "    https://scikit-learn.org/stable/modules/preprocessing.html\n",
            "Please also refer to the documentation for alternative solver options:\n",
            "    https://scikit-learn.org/stable/modules/linear_model.html#logistic-regression\n",
            "  n_iter_i = _check_optimize_result(\n",
            "/usr/local/lib/python3.8/dist-packages/sklearn/linear_model/_logistic.py:814: ConvergenceWarning: lbfgs failed to converge (status=1):\n",
            "STOP: TOTAL NO. of ITERATIONS REACHED LIMIT.\n",
            "\n",
            "Increase the number of iterations (max_iter) or scale the data as shown in:\n",
            "    https://scikit-learn.org/stable/modules/preprocessing.html\n",
            "Please also refer to the documentation for alternative solver options:\n",
            "    https://scikit-learn.org/stable/modules/linear_model.html#logistic-regression\n",
            "  n_iter_i = _check_optimize_result(\n"
          ]
        },
        {
          "output_type": "stream",
          "name": "stdout",
          "text": [
            "done in 7.246s\n",
            "Best estimator found by grid search:\n",
            "LogisticRegression(C=1000000.0, fit_intercept=False, max_iter=500,\n",
            "                   multi_class='ovr')\n"
          ]
        }
      ]
    },
    {
      "cell_type": "code",
      "source": [
        "y_pred = prediction(clf, X_test_pca) # create prediction"
      ],
      "metadata": {
        "execution": {
          "iopub.status.busy": "2022-06-09T17:35:24.240998Z",
          "iopub.execute_input": "2022-06-09T17:35:24.24148Z",
          "iopub.status.idle": "2022-06-09T17:35:24.300144Z",
          "shell.execute_reply.started": "2022-06-09T17:35:24.241448Z",
          "shell.execute_reply": "2022-06-09T17:35:24.299135Z"
        },
        "trusted": true,
        "colab": {
          "base_uri": "https://localhost:8080/"
        },
        "outputId": "e05107bd-4680-4b2a-ed9e-6565bbd2577e",
        "id": "qBrpaZ56poHh"
      },
      "execution_count": 23,
      "outputs": [
        {
          "output_type": "stream",
          "name": "stdout",
          "text": [
            "Predicting people's names on the test set\n",
            "done in 0.000s\n"
          ]
        }
      ]
    },
    {
      "cell_type": "code",
      "source": [
        "acc = Accuracy(y_test, y_pred)\n",
        "print(acc)\n",
        "accuracy.append(acc)"
      ],
      "metadata": {
        "execution": {
          "iopub.status.busy": "2022-06-09T17:35:24.302246Z",
          "iopub.execute_input": "2022-06-09T17:35:24.302637Z",
          "iopub.status.idle": "2022-06-09T17:35:24.314011Z",
          "shell.execute_reply.started": "2022-06-09T17:35:24.302605Z",
          "shell.execute_reply": "2022-06-09T17:35:24.313254Z"
        },
        "trusted": true,
        "colab": {
          "base_uri": "https://localhost:8080/"
        },
        "outputId": "cfd9faf5-1fe7-496a-eafa-35000f310219",
        "id": "f1z1DFKEpoHh"
      },
      "execution_count": 24,
      "outputs": [
        {
          "output_type": "stream",
          "name": "stdout",
          "text": [
            "0.8903508771929824\n"
          ]
        }
      ]
    },
    {
      "cell_type": "markdown",
      "source": [
        "**PCA (93%)**"
      ],
      "metadata": {
        "id": "HF0lP7A1q6pT"
      }
    },
    {
      "cell_type": "code",
      "source": [
        "v_captured = .93\n",
        "variance_captured.append(v_captured)\n",
        "\n",
        "pca, n_comp = dimensionalityReductionPCA(v_captured, X_train) # create eigenfaces and pca values from function taking training data and components, etc\n",
        "principal_components.append(n_comp)\n",
        "X_train_pca, X_test_pca = trainTextTransformModel(pca, X_train, X_test) # create pca train and test values using function"
      ],
      "metadata": {
        "execution": {
          "iopub.status.busy": "2022-06-09T17:35:08.563317Z",
          "iopub.execute_input": "2022-06-09T17:35:08.56411Z",
          "iopub.status.idle": "2022-06-09T17:35:09.001903Z",
          "shell.execute_reply.started": "2022-06-09T17:35:08.564058Z",
          "shell.execute_reply": "2022-06-09T17:35:09.000804Z"
        },
        "trusted": true,
        "colab": {
          "base_uri": "https://localhost:8080/"
        },
        "outputId": "5670063e-ceb7-4f90-c93b-bcde11c29cf6",
        "id": "W6elbjUwq6pb"
      },
      "execution_count": 25,
      "outputs": [
        {
          "output_type": "stream",
          "name": "stdout",
          "text": [
            "done in 0.877s\n",
            "Components Captured : 111\n",
            "Variance Captured : 0.9301522489404306\n"
          ]
        }
      ]
    },
    {
      "cell_type": "code",
      "source": [
        "clf = classificationLR(X_train_pca, y_train) # create clf model using classification function"
      ],
      "metadata": {
        "execution": {
          "iopub.status.busy": "2022-06-09T17:35:09.008115Z",
          "iopub.execute_input": "2022-06-09T17:35:09.011179Z",
          "iopub.status.idle": "2022-06-09T17:35:24.240018Z",
          "shell.execute_reply.started": "2022-06-09T17:35:09.011117Z",
          "shell.execute_reply": "2022-06-09T17:35:24.239312Z"
        },
        "trusted": true,
        "colab": {
          "base_uri": "https://localhost:8080/"
        },
        "outputId": "b266ff2f-6a68-4560-8119-e77136b63050",
        "id": "Te2Wd_sgq6pc"
      },
      "execution_count": 26,
      "outputs": [
        {
          "output_type": "stream",
          "name": "stdout",
          "text": [
            "Fitting the classifier to the training set\n",
            "done in 3.694s\n",
            "Best estimator found by grid search:\n",
            "LogisticRegression(C=1000000.0, fit_intercept=False, multi_class='ovr')\n"
          ]
        }
      ]
    },
    {
      "cell_type": "code",
      "source": [
        "y_pred = prediction(clf, X_test_pca) # create prediction"
      ],
      "metadata": {
        "execution": {
          "iopub.status.busy": "2022-06-09T17:35:24.240998Z",
          "iopub.execute_input": "2022-06-09T17:35:24.24148Z",
          "iopub.status.idle": "2022-06-09T17:35:24.300144Z",
          "shell.execute_reply.started": "2022-06-09T17:35:24.241448Z",
          "shell.execute_reply": "2022-06-09T17:35:24.299135Z"
        },
        "trusted": true,
        "colab": {
          "base_uri": "https://localhost:8080/"
        },
        "outputId": "e6f917a6-be23-4ef2-e089-2f6729ada74a",
        "id": "gaqyx0o9q6pc"
      },
      "execution_count": 27,
      "outputs": [
        {
          "output_type": "stream",
          "name": "stdout",
          "text": [
            "Predicting people's names on the test set\n",
            "done in 0.000s\n"
          ]
        }
      ]
    },
    {
      "cell_type": "code",
      "source": [
        "acc = Accuracy(y_test, y_pred)\n",
        "print(acc)\n",
        "accuracy.append(acc)"
      ],
      "metadata": {
        "execution": {
          "iopub.status.busy": "2022-06-09T17:35:24.302246Z",
          "iopub.execute_input": "2022-06-09T17:35:24.302637Z",
          "iopub.status.idle": "2022-06-09T17:35:24.314011Z",
          "shell.execute_reply.started": "2022-06-09T17:35:24.302605Z",
          "shell.execute_reply": "2022-06-09T17:35:24.313254Z"
        },
        "trusted": true,
        "colab": {
          "base_uri": "https://localhost:8080/"
        },
        "outputId": "7241a0c5-334e-4f34-ea2b-cd78011fc5fb",
        "id": "c8LkSigjq6pc"
      },
      "execution_count": 28,
      "outputs": [
        {
          "output_type": "stream",
          "name": "stdout",
          "text": [
            "0.8859649122807017\n"
          ]
        }
      ]
    },
    {
      "cell_type": "markdown",
      "metadata": {
        "id": "KxJ8zQMVuLrc"
      },
      "source": [
        "**Plots**"
      ]
    },
    {
      "cell_type": "code",
      "execution_count": 29,
      "metadata": {
        "colab": {
          "base_uri": "https://localhost:8080/",
          "height": 362
        },
        "id": "XzWxiZKguNCt",
        "outputId": "35af1533-ee4d-47bb-e097-87a86c95fbf4"
      },
      "outputs": [
        {
          "output_type": "display_data",
          "data": {
            "text/plain": [
              "<Figure size 360x360 with 1 Axes>"
            ],
            "image/png": "[encoded data removed]"
          },
          "metadata": {}
        }
      ],
      "source": [
        "plt.rcParams['figure.figsize']=5,5\n",
        "sns.set_style(\"darkgrid\")\n",
        "ax = sns.barplot(x=variance_captured, y=accuracy, palette = \"rocket\", saturation =1.5)\n",
        "plt.xlabel(\"Variance\", fontsize = 16)\n",
        "plt.ylabel(\"Accuracy\", fontsize = 16)\n",
        "plt.title(\"Variance vs Accuracy\", fontsize = 18)\n",
        "plt.xticks(fontsize = 10, horizontalalignment = 'center', rotation = 8)\n",
        "plt.yticks(fontsize = 10)\n",
        "for p in ax.patches:\n",
        "    width, height = p.get_width(), p.get_height()\n",
        "    x, y = p.get_xy() \n",
        "    ax.annotate(f'{height:.2%}', (x + width/10, y + height*1.02), ha='center', fontsize = 'large')\n",
        "plt.show()"
      ]
    },
    {
      "cell_type": "code",
      "source": [
        "plt.rcParams['figure.figsize']=5,5\n",
        "sns.set_style(\"darkgrid\")\n",
        "ax = sns.barplot(x=principal_components, y=variance_captured, palette = \"rocket\", saturation =1.5)\n",
        "plt.xlabel(\"# Components\", fontsize = 16)\n",
        "plt.ylabel(\"Variance\", fontsize = 16)\n",
        "plt.title(\"# Components vs Variance\", fontsize = 18)\n",
        "plt.xticks(fontsize = 10, horizontalalignment = 'center', rotation = 8)\n",
        "plt.yticks(fontsize = 10)\n",
        "for p in ax.patches:\n",
        "    width, height = p.get_width(), p.get_height()\n",
        "    x, y = p.get_xy() \n",
        "    ax.annotate(f'{height:.2%}', (x + width/10, y + height*1.02), ha='center', fontsize = 'large')\n",
        "plt.show()"
      ],
      "metadata": {
        "colab": {
          "base_uri": "https://localhost:8080/",
          "height": 361
        },
        "id": "kpsawM9KO5Hx",
        "outputId": "07516518-b957-45c0-e389-d318479384f6"
      },
      "execution_count": 30,
      "outputs": [
        {
          "output_type": "display_data",
          "data": {
            "text/plain": [
              "<Figure size 360x360 with 1 Axes>"
            ],
            "image/png": "[encoded data removed]"
          },
          "metadata": {}
        }
      ]
    },
    {
      "cell_type": "code",
      "source": [
        "print(accuracy)\n",
        "print(variance_captured)\n",
        "print(principal_components)\n",
        "\n",
        "\"\"\"plt.figure(figsize=(8, 4))\n",
        "plt.plot(principal_components, variance_captured, color='green', linestyle='dashed', marker='o',\n",
        "         markerfacecolor='blue', markersize=10)\n",
        "plt.title('# Components vs Variance')\n",
        "plt.xlabel('# Components')\n",
        "plt.ylabel('Variance')\n",
        "\n",
        "plt.figure(figsize=(8, 4))\n",
        "plt.plot(variance_captured, accuracy, color='green', linestyle='dashed', marker='o',\n",
        "         markerfacecolor='blue', markersize=10)\n",
        "plt.title('Variance vs Accuracy')\n",
        "plt.xlabel('Variance')\n",
        "plt.ylabel('Accuracy')\"\"\""
      ],
      "metadata": {
        "colab": {
          "base_uri": "https://localhost:8080/",
          "height": 140
        },
        "id": "UEN0DSN8HB-r",
        "outputId": "50faad62-68ed-4872-c883-e65c1e5d7bae"
      },
      "execution_count": 31,
      "outputs": [
        {
          "output_type": "stream",
          "name": "stdout",
          "text": [
            "[0.8464912280701754, 0.8903508771929824, 0.8859649122807017]\n",
            "[0.97, 0.95, 0.93]\n",
            "[209, 147, 111]\n"
          ]
        },
        {
          "output_type": "execute_result",
          "data": {
            "text/plain": [
              "\"plt.figure(figsize=(8, 4))\\nplt.plot(principal_components, variance_captured, color='green', linestyle='dashed', marker='o',\\n         markerfacecolor='blue', markersize=10)\\nplt.title('# Components vs Variance')\\nplt.xlabel('# Components')\\nplt.ylabel('Variance')\\n\\nplt.figure(figsize=(8, 4))\\nplt.plot(variance_captured, accuracy, color='green', linestyle='dashed', marker='o',\\n         markerfacecolor='blue', markersize=10)\\nplt.title('Variance vs Accuracy')\\nplt.xlabel('Variance')\\nplt.ylabel('Accuracy')\""
            ],
            "application/vnd.google.colaboratory.intrinsic+json": {
              "type": "string"
            }
          },
          "metadata": {},
          "execution_count": 31
        }
      ]
    }
  ]
}