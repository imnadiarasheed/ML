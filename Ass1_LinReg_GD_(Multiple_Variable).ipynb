{
  "nbformat": 4,
  "nbformat_minor": 0,
  "metadata": {
    "colab": {
      "provenance": [],
      "collapsed_sections": [],
      "mount_file_id": "1vM4hJ3m-JkWpMBYA9lw3gVUn-xy9AlHj",
      "authorship_tag": "ABX9TyOTAvcoDjNLrp4geCDLr0K5",
      "include_colab_link": true
    },
    "kernelspec": {
      "name": "python3",
      "display_name": "Python 3"
    },
    "language_info": {
      "name": "python"
    }
  },
  "cells": [
    {
      "cell_type": "markdown",
      "metadata": {
        "id": "view-in-github",
        "colab_type": "text"
      },
      "source": [
        "<a href=\"https://colab.research.google.com/github/imnadiarasheed/ML/blob/main/Ass1_LinReg_GD_(Multiple_Variable).ipynb\" target=\"_parent\"><img src=\"https://colab.research.google.com/assets/colab-badge.svg\" alt=\"Open In Colab\"/></a>"
      ]
    },
    {
      "cell_type": "code",
      "execution_count": 1,
      "metadata": {
        "id": "NaRia8ZfL28i"
      },
      "outputs": [],
      "source": [
        "import pandas as pd\n",
        "import numpy as np\n",
        "import matplotlib.pyplot as plt\n",
        "import seaborn as sns\n",
        "import missingno as msno\n",
        "from sklearn.metrics import accuracy_score, roc_auc_score, classification_report, confusion_matrix\n",
        "from sklearn.linear_model import LinearRegression\n",
        "from sklearn.metrics import mean_squared_error, r2_score"
      ]
    },
    {
      "cell_type": "code",
      "source": [
        "df_train=pd.read_csv(\"drive/MyDrive/Colab Notebooks/ML/Assignment-1/Dataset/train.csv\")\n",
        "df_test=pd.read_csv(\"drive/MyDrive/Colab Notebooks/ML/Assignment-1/Dataset/test.csv\")\n",
        "df_gt=pd.read_csv(\"drive/MyDrive/Colab Notebooks/ML/Assignment-1/Dataset/gender_submission.csv\")\n",
        "#print(df_train.head(5)), print(df_test.head(5)), print(df_gt.head(5))"
      ],
      "metadata": {
        "id": "OfL3IpFSNAUb"
      },
      "execution_count": 2,
      "outputs": []
    },
    {
      "cell_type": "code",
      "execution_count": 3,
      "metadata": {
        "id": "57d8a468",
        "colab": {
          "base_uri": "https://localhost:8080/"
        },
        "outputId": "e6ef02ac-ace6-4759-a447-2a0eeadf8161"
      },
      "outputs": [
        {
          "output_type": "stream",
          "name": "stdout",
          "text": [
            "     Survived  Pclass     Sex   Age  SibSp  Parch     Fare Embarked\n",
            "0           0       3    male  22.0      1      0   7.2500        S\n",
            "1           1       1  female  38.0      1      0  71.2833        C\n",
            "2           1       3  female  26.0      0      0   7.9250        S\n",
            "3           1       1  female  35.0      1      0  53.1000        S\n",
            "4           0       3    male  35.0      0      0   8.0500        S\n",
            "..        ...     ...     ...   ...    ...    ...      ...      ...\n",
            "886         0       2    male  27.0      0      0  13.0000        S\n",
            "887         1       1  female  19.0      0      0  30.0000        S\n",
            "888         0       3  female   NaN      1      2  23.4500        S\n",
            "889         1       1    male  26.0      0      0  30.0000        C\n",
            "890         0       3    male  32.0      0      0   7.7500        Q\n",
            "\n",
            "[891 rows x 8 columns]\n",
            "     Pclass     Sex   Age  SibSp  Parch      Fare Embarked\n",
            "0         3    male  34.5      0      0    7.8292        Q\n",
            "1         3  female  47.0      1      0    7.0000        S\n",
            "2         2    male  62.0      0      0    9.6875        Q\n",
            "3         3    male  27.0      0      0    8.6625        S\n",
            "4         3  female  22.0      1      1   12.2875        S\n",
            "..      ...     ...   ...    ...    ...       ...      ...\n",
            "413       3    male   NaN      0      0    8.0500        S\n",
            "414       1  female  39.0      0      0  108.9000        C\n",
            "415       3    male  38.5      0      0    7.2500        S\n",
            "416       3    male   NaN      0      0    8.0500        S\n",
            "417       3    male   NaN      1      1   22.3583        C\n",
            "\n",
            "[418 rows x 7 columns]\n"
          ]
        },
        {
          "output_type": "execute_result",
          "data": {
            "text/plain": [
              "(None, None)"
            ]
          },
          "metadata": {},
          "execution_count": 3
        }
      ],
      "source": [
        "df_train.drop(\"PassengerId\",axis=1,inplace=True), df_test.drop(\"PassengerId\",axis=1,inplace=True)\n",
        "df_train.drop(\"Name\",axis=1,inplace=True), df_test.drop(\"Name\",axis=1,inplace=True)\n",
        "df_train.drop(\"Ticket\",axis=1,inplace=True), df_test.drop(\"Ticket\",axis=1,inplace=True)\n",
        "df_train.drop(\"Cabin\",axis=1,inplace=True), df_test.drop(\"Cabin\",axis=1,inplace=True)\n",
        "print(df_train), print(df_test)"
      ]
    },
    {
      "cell_type": "markdown",
      "source": [
        "**Preprocessing**"
      ],
      "metadata": {
        "id": "TC3j7qmktfaC"
      }
    },
    {
      "cell_type": "markdown",
      "metadata": {
        "id": "okmcvklCNZBp"
      },
      "source": [
        "**Data Cleaning**"
      ]
    },
    {
      "cell_type": "code",
      "source": [
        "print(df_train.isnull().sum()), print(df_test.isnull().sum())"
      ],
      "metadata": {
        "colab": {
          "base_uri": "https://localhost:8080/"
        },
        "id": "Ye2XjYJUiHY7",
        "outputId": "7dbf2bb9-93df-4f02-831d-c30a94b831b5"
      },
      "execution_count": 4,
      "outputs": [
        {
          "output_type": "stream",
          "name": "stdout",
          "text": [
            "Survived      0\n",
            "Pclass        0\n",
            "Sex           0\n",
            "Age         177\n",
            "SibSp         0\n",
            "Parch         0\n",
            "Fare          0\n",
            "Embarked      2\n",
            "dtype: int64\n",
            "Pclass       0\n",
            "Sex          0\n",
            "Age         86\n",
            "SibSp        0\n",
            "Parch        0\n",
            "Fare         1\n",
            "Embarked     0\n",
            "dtype: int64\n"
          ]
        },
        {
          "output_type": "execute_result",
          "data": {
            "text/plain": [
              "(None, None)"
            ]
          },
          "metadata": {},
          "execution_count": 4
        }
      ]
    },
    {
      "cell_type": "code",
      "execution_count": 5,
      "metadata": {
        "id": "43860fe2"
      },
      "outputs": [],
      "source": [
        "df_train['Age'].fillna(df_train['Age'].mean(),inplace=True)\n",
        "df_test['Age'].fillna(df_test['Age'].mean(),inplace=True)\n",
        "#df_train['Embarked'].fillna(df_train['Embarked'].mode(),inplace=True)\n",
        "df_test['Fare'].fillna(df_test['Fare'].mean(),inplace=True)"
      ]
    },
    {
      "cell_type": "code",
      "source": [
        "print(df_train.isnull().sum()), print(df_test.isnull().sum())"
      ],
      "metadata": {
        "colab": {
          "base_uri": "https://localhost:8080/"
        },
        "id": "40l3C6PBbqWU",
        "outputId": "eae57d4b-ac70-450d-8de2-483e75da9ee3"
      },
      "execution_count": 6,
      "outputs": [
        {
          "output_type": "stream",
          "name": "stdout",
          "text": [
            "Survived    0\n",
            "Pclass      0\n",
            "Sex         0\n",
            "Age         0\n",
            "SibSp       0\n",
            "Parch       0\n",
            "Fare        0\n",
            "Embarked    2\n",
            "dtype: int64\n",
            "Pclass      0\n",
            "Sex         0\n",
            "Age         0\n",
            "SibSp       0\n",
            "Parch       0\n",
            "Fare        0\n",
            "Embarked    0\n",
            "dtype: int64\n"
          ]
        },
        {
          "output_type": "execute_result",
          "data": {
            "text/plain": [
              "(None, None)"
            ]
          },
          "metadata": {},
          "execution_count": 6
        }
      ]
    },
    {
      "cell_type": "markdown",
      "source": [
        "**Label Encoding**"
      ],
      "metadata": {
        "id": "2P5mfv3J76rC"
      }
    },
    {
      "cell_type": "code",
      "execution_count": 7,
      "metadata": {
        "id": "129cfe04",
        "colab": {
          "base_uri": "https://localhost:8080/"
        },
        "outputId": "a969f3bf-e8fd-4aa7-8893-9694c2eaa9b8"
      },
      "outputs": [
        {
          "output_type": "stream",
          "name": "stdout",
          "text": [
            "     Survived  Pclass  Sex        Age  SibSp  Parch     Fare  Embarked\n",
            "0           0       3    1  22.000000      1      0   7.2500         2\n",
            "1           1       1    0  38.000000      1      0  71.2833         0\n",
            "2           1       3    0  26.000000      0      0   7.9250         2\n",
            "3           1       1    0  35.000000      1      0  53.1000         2\n",
            "4           0       3    1  35.000000      0      0   8.0500         2\n",
            "..        ...     ...  ...        ...    ...    ...      ...       ...\n",
            "886         0       2    1  27.000000      0      0  13.0000         2\n",
            "887         1       1    0  19.000000      0      0  30.0000         2\n",
            "888         0       3    0  29.699118      1      2  23.4500         2\n",
            "889         1       1    1  26.000000      0      0  30.0000         0\n",
            "890         0       3    1  32.000000      0      0   7.7500         1\n",
            "\n",
            "[891 rows x 8 columns]\n",
            "     Pclass  Sex       Age  SibSp  Parch      Fare  Embarked\n",
            "0         3    1  34.50000      0      0    7.8292         1\n",
            "1         3    0  47.00000      1      0    7.0000         2\n",
            "2         2    1  62.00000      0      0    9.6875         1\n",
            "3         3    1  27.00000      0      0    8.6625         2\n",
            "4         3    0  22.00000      1      1   12.2875         2\n",
            "..      ...  ...       ...    ...    ...       ...       ...\n",
            "413       3    1  30.27259      0      0    8.0500         2\n",
            "414       1    0  39.00000      0      0  108.9000         0\n",
            "415       3    1  38.50000      0      0    7.2500         2\n",
            "416       3    1  30.27259      0      0    8.0500         2\n",
            "417       3    1  30.27259      1      1   22.3583         0\n",
            "\n",
            "[418 rows x 7 columns]\n"
          ]
        },
        {
          "output_type": "execute_result",
          "data": {
            "text/plain": [
              "(None, None)"
            ]
          },
          "metadata": {},
          "execution_count": 7
        }
      ],
      "source": [
        "from sklearn.preprocessing import LabelEncoder\n",
        "le = LabelEncoder()\n",
        "df_train['Sex'] = le.fit_transform(df_train['Sex'])\n",
        "df_train['Embarked'] = le.fit_transform(df_train['Embarked'])\n",
        "df_test['Sex'] = le.fit_transform(df_test['Sex'])\n",
        "df_test['Embarked'] = le.fit_transform(df_test['Embarked'])\n",
        "print(df_train), print(df_test)"
      ]
    },
    {
      "cell_type": "markdown",
      "metadata": {
        "id": "cnO9JTj0dumO"
      },
      "source": [
        "**Training and Testing using Linear Regression GD**"
      ]
    },
    {
      "cell_type": "code",
      "execution_count": 13,
      "metadata": {
        "id": "gjA1BdkA27Nf"
      },
      "outputs": [],
      "source": [
        "# LINEAR REGRESSION USING SELF DEFINED GRADIENT DESCENT\n",
        "\n",
        "def plot(x, y, predicted_values, size=10, x_label='x', y_label='y'):\n",
        "    plt.scatter(x, y, s=size, color='b')\n",
        "    plt.plot(x, predicted_values, color='r')\n",
        "    set_labels(x_label, y_label)\n",
        "\n",
        "\n",
        "def ploty(y, x_label='x', y_label='y'):\n",
        "    plt.plot(y)\n",
        "    set_labels(x_label, y_label)\n",
        "\n",
        "\n",
        "def set_labels(x_label, y_label):\n",
        "    plt.xlabel(x_label)\n",
        "    plt.ylabel(y_label)\n",
        "    plt.show()\n",
        "\n",
        "\n",
        "class LinearRegressionUsingGD:\n",
        "    \"\"\"Linear Regression Using Gradient Descent.\n",
        "\n",
        "    Parameters\n",
        "    ----------\n",
        "    eta : float\n",
        "        Learning rate\n",
        "    n_iterations : int\n",
        "        No of passes over the training set\n",
        "\n",
        "    Attributes\n",
        "    ----------\n",
        "    w_ : weights/ after fitting the model\n",
        "    cost_ : total error of the model after each iteration\"\"\"\n",
        "\n",
        "    def __init__(self, eta=0.05, n_iterations=500):\n",
        "        self.eta = eta\n",
        "        self.n_iterations = n_iterations\n",
        "\n",
        "    def fit(self, x, y):\n",
        "        \"\"\"Fit the training data\n",
        "\n",
        "        Parameters\n",
        "        ----------\n",
        "        x : array-like, shape = [n_samples, n_features]\n",
        "            Training samples\n",
        "        y : array-like, shape = [n_samples, n_target_values]\n",
        "            Target values\n",
        "\n",
        "        Returns\n",
        "        -------\n",
        "        self : object\"\"\"\n",
        "\n",
        "        self.cost_ = []\n",
        "        self.w_ = np.zeros((x.shape[1], 1))\n",
        "        m = x.shape[0]\n",
        "\n",
        "        for _ in range(self.n_iterations):\n",
        "            y_pred = np.dot(x, self.w_)\n",
        "            residuals = y_pred - y\n",
        "            gradient_vector = np.dot(x.T, residuals)\n",
        "            self.w_ -= (self.eta / m) * gradient_vector\n",
        "            cost = np.sum((residuals ** 2)) / (2 * m)\n",
        "            self.cost_.append(cost)\n",
        "\n",
        "        return self\n",
        "\n",
        "    def predict(self, x):\n",
        "        \"\"\" Predicts the value after the model has been trained.\n",
        "\n",
        "        Parameters\n",
        "        ----------\n",
        "        x : array-like, shape = [n_samples, n_features]\n",
        "            Test samples\n",
        "\n",
        "        Returns\n",
        "        -------\n",
        "        Predicted value\"\"\"\n",
        "        return np.dot(x, self.w_)\n",
        "\n",
        "class PerformanceMetrics:\n",
        "    \"\"\"Defines methods to evaluate the model\n",
        "\n",
        "    Parameters\n",
        "    ----------\n",
        "    y_actual : array-like, shape = [n_samples]\n",
        "            Observed values from the training samples\n",
        "    y_predicted : array-like, shape = [n_samples]\n",
        "            Predicted values from the model\"\"\"\n",
        "\n",
        "    def __init__(self, y_actual, y_predicted):\n",
        "        self.y_actual = y_actual\n",
        "        self.y_predicted = y_predicted\n",
        "\n",
        "    def compute_rmse(self):\n",
        "        \"\"\"Compute the root mean squared error\n",
        "\n",
        "        Returns\n",
        "        ------\n",
        "        rmse : root mean squared error\"\"\"\n",
        "        return np.sqrt(self.sum_of_square_of_residuals())\n",
        "\n",
        "    def compute_r2_score(self):\n",
        "        \"\"\"Compute the r-squared score\n",
        "\n",
        "            Returns\n",
        "            ------\n",
        "            r2_score : r-squared score\"\"\"\n",
        "        # sum of square of residuals\n",
        "        ssr = self.sum_of_square_of_residuals()\n",
        "\n",
        "        # total sum of errors\n",
        "        sst = np.sum((self.y_actual - np.mean(self.y_actual)) ** 2)\n",
        "\n",
        "        return 1 - (ssr / sst)\n",
        "\n",
        "    def sum_of_square_of_residuals(self):\n",
        "        return np.sum((self.y_actual - self.y_predicted) ** 2)\n",
        "\n",
        "\n",
        "def generate_data_set(xx,yy):\n",
        "    \"\"\" Generates Random Data\n",
        "\n",
        "    Returns\n",
        "    -------\n",
        "    x : array-like, shape = [n_samples, n_features]\n",
        "            Training samples\n",
        "    y : array-like, shape = [n_samples, n_target_values]\n",
        "            Target values\"\"\"\n",
        "    x=xx.to_numpy()\n",
        "    y=yy.to_numpy()\n",
        "    return x, y"
      ]
    },
    {
      "cell_type": "code",
      "execution_count": 17,
      "metadata": {
        "id": "oc1qxOhBPo1l"
      },
      "outputs": [],
      "source": [
        "def funx(vars):\n",
        "    # initializing the model\n",
        "    linear_regression_model = LinearRegressionUsingGD()\n",
        "\n",
        "    # generate the data set\n",
        "    X_train, y_train = generate_data_set(X_train1, y_train1)\n",
        "    X_test, y_test = generate_data_set(X_test1, y_test1)\n",
        "    #print(x), print(y)\n",
        "    # transform the feature vectors to include the bias term\n",
        "    # adding 1 to all the instances of the training set.\n",
        "    ms = X_train.shape[0]\n",
        "    ns = X_test.shape[0]\n",
        "    X_train = np.c_[np.ones((ms, 1)), X_train]\n",
        "    X_test = np.c_[np.ones((ns, 1)), X_test]\n",
        "\n",
        "    # fit/train the model\n",
        "    linear_regression_model.fit(X_train, y_train)\n",
        "\n",
        "    # predict values\n",
        "    y_train_predict = linear_regression_model.predict(X_train)\n",
        "    y_test_predict = linear_regression_model.predict(X_test)\n",
        "\n",
        "    # model parameters\n",
        "    print(linear_regression_model.w_)\n",
        "    intercept, coeffs1, coeffs2, coeffs3, coeffs4, coeffs5, coeffs6, coeffs7 = linear_regression_model.w_\n",
        "\n",
        "    # cost_function\n",
        "    cost_function = linear_regression_model.cost_\n",
        "\n",
        "    # plotting\n",
        "    #plot(x, y, predicted_values)\n",
        "    ploty(cost_function, 'no of iterations', 'cost function')\n",
        "\n",
        "    # computing metrics\n",
        "    metrics_train = PerformanceMetrics(y_train, y_train_predict)\n",
        "    rmse_train = metrics_train.compute_rmse()\n",
        "    r2_score_train = metrics_train.compute_r2_score()\n",
        "\n",
        "    metrics_test = PerformanceMetrics(y_test, y_test_predict)\n",
        "    rmse_test = metrics_test.compute_rmse()\n",
        "    r2_score_test = metrics_test.compute_r2_score()\n",
        "    print(min(cost_function))\n",
        "\n",
        "    print('The intercept is {}'.format(intercept))\n",
        "    print('The coefficient-1 is {}'.format(coeffs1))\n",
        "    print('The coefficient-2 is {}'.format(coeffs2))\n",
        "    print('The coefficient-3 is {}'.format(coeffs3))\n",
        "    print('The coefficient-4 is {}'.format(coeffs4))\n",
        "    print('The coefficient-5 is {}'.format(coeffs5))\n",
        "    print('The coefficient-6 is {}'.format(coeffs6))\n",
        "    print('The coefficient-7 is {}'.format(coeffs7))\n",
        "\n",
        "    print(\"\\nThe model performance for training set\")\n",
        "    print(\"--------------------------------------\")\n",
        "    print('Root mean squared error of the model is {}.'.format(rmse_train))\n",
        "    print('R-squared score is {}.'.format(r2_score_train))\n",
        "    # print(intercept_values), print(coeffs_values)\n",
        "\n",
        "    print(\"\\nThe model performance for test set\")\n",
        "    print(\"--------------------------------------\")\n",
        "    print('Root mean squared error of the model is {}.'.format(rmse_test))\n",
        "    print('R-squared score is {}.'.format(r2_score_test))\n",
        "\n",
        "    \"\"\"iter = 0  # Initial iteration counter\n",
        "    itersteps = 500  # Total number of iterations\n",
        "    \n",
        "    # Initial guesses for linear regression model of y=mx+b and arrays to keep track of values over iterations\n",
        "    m = np.zeros(itersteps)\n",
        "    b = np.zeros(itersteps)\n",
        "    J = np.zeros(itersteps)\n",
        "    # Creating mesh for 3D Surface Plot of MSE\n",
        "    mm = np.linspace(-1, 1, 1000)\n",
        "    bb = np.linspace(-1, 1, 1000)\n",
        "    mmm, bbb = np.meshgrid(mm, bb)\n",
        "    \n",
        "    JJ = np.zeros([len(mm), len(bb)])\n",
        "    n = X_train.shape[0]\n",
        "    \n",
        "    # Calculating values of MSE for different combinations of m and b\n",
        "    for i in range(len(mm)):\n",
        "        for j in range(len(bb)):\n",
        "            #print('i: ',i, 'j: ', j)\n",
        "            yy = mmm[i, j] * X_train + bbb[i, j]\n",
        "            JJ[i, j] = 1 / n * np.sum((y_train - yy) ** 2)\n",
        "    \n",
        "    # 3D Surface Plot\n",
        "    fig3 = plt.figure()\n",
        "    ax4 = fig3.gca(projection='3d')\n",
        "    surf = ax4.plot_surface(mmm, bbb, JJ, cmap=plt.cm.jet)\n",
        "    fig3.colorbar(surf)\n",
        "\n",
        "    ax4.plot(m[:-1], b[:-1], J[:-1], 'red')\n",
        "    ax4.scatter(m[-2], b[-2], J[-2], c='b', marker=\"o\",label='Gradient Descent')\n",
        "    ax4.text(m[-2], b[-2], J[-2], '%s' % ('MSE: '+str(round(J[-2],5))), color='k')\n",
        "    ax4.set_xlabel('m')\n",
        "    ax4.set_ylabel('b')\n",
        "    ax4.set_zlabel('MSE')\n",
        "    ax4.set_title('3D Surface Plot of MSE')\n",
        "\n",
        "    # Acquiring and plotting minimum value of MSE\n",
        "    i_min, j_min = np.unravel_index(JJ.argmin(), JJ.shape)\n",
        "    ax4.scatter(mmm[i_min, j_min], bbb[i_min, j_min], np.min(JJ), c='g', marker=\"o\",label='3D Plot')\n",
        "    ax4.text(mmm[i_min, j_min], bbb[i_min, j_min], np.min(JJ), '%s' % ('MSE: '+str(round(np.min(JJ),5))), color='k')\n",
        "    \n",
        "    ax4.legend(bbox_to_anchor=(0.15, .50), fontsize='x-small')\n",
        "    print(str(round(np.min(JJ),5)))\n",
        "\n",
        "    # Calculating linear fit and errors for both methods\n",
        "    # Gradient Descent\n",
        "    yy = m[-1] * X_train + b[-1] # Predicted Values\n",
        "    y2 = m[-1] * X_train + b[-1] # Linear fit\n",
        "    SSR1 = np.sum((yy - np.mean(y_train)) ** 2)\n",
        "    SSE1 = np.sum((y_train - yy) ** 2)\n",
        "    SSTO1 = np.sum((y_train - np.mean(y_train)) ** 2)\n",
        "    R_sq1 = 1-SSE1/SSTO1\n",
        "    \n",
        "    # 3D Plot\n",
        "    yyy = mmm[i_min, j_min] * X_train + bbb[i_min, j_min] # Predicted Values\n",
        "    yyy2 = mmm[i_min, j_min] * X_train + bbb[i_min, j_min] # Linear fit\n",
        "    SSR2 = np.sum((yyy - np.mean(y_train)) ** 2)\n",
        "    SSE2 = np.sum((y_train - yyy) ** 2)\n",
        "    SSTO2 = np.sum((y_train - np.mean(y_train)) ** 2)\n",
        "    R_sq2 = 1-SSE2/SSTO2\n",
        "\n",
        "    # Contour plot of 3D plot\n",
        "    fig6, ax7 = plt.subplots(figsize=(5, 5))\n",
        "    ax7.contour(mmm, bbb, JJ, 100, cmap=plt.cm.jet);\n",
        "    ax7.plot(m[:-1], b[:-1], 'red')\n",
        "    ax7.scatter(m[-2], b[-2], c='b', marker=\"o\",label='Gradient Descent: y=' + str(round(m[-1], 5)) + '*x+' + str(round(b[-1], 5)) + ' $R^2=$' + str(round(R_sq1, 5)))\n",
        "    ax7.text(m[-2], b[-2], '%s' % ('MSE: '+str(round(J[-2],5))), color='k')\n",
        "    ax7.scatter(mmm[i_min, j_min], bbb[i_min, j_min], c='g', marker=\"o\",label='3D Plot: y=' + str(round(mmm[i_min, j_min], 5)) + '*x+' + str(round(bbb[i_min, j_min], 5)) + ' $R^2=$' + str(round(R_sq2, 5)))\n",
        "    ax7.text(mmm[i_min, j_min], bbb[i_min, j_min], '%s' % ('MSE: '+str(round(np.min(JJ),5))), color='k')\n",
        "    ax7.set_xlabel('m')\n",
        "    ax7.set_ylabel('b')\n",
        "    ax7.set_title('Contour Plot of MSE')\n",
        "    ax7.legend()\"\"\""
      ]
    },
    {
      "cell_type": "code",
      "execution_count": 9,
      "metadata": {
        "id": "xUsOiCzcjtW_"
      },
      "outputs": [],
      "source": [
        "def funxAlpha(vars):\n",
        "    # initializing the model\n",
        "    linear_regression_model = LinearRegressionUsingGD()\n",
        "\n",
        "    # generate the data set\n",
        "    X_train, y_train = generate_data_set(X_train1, y_train1)\n",
        "    X_test, y_test = generate_data_set(X_test1, y_test1)\n",
        "    #print(x), print(y)\n",
        "    # transform the feature vectors to include the bias term\n",
        "    # adding 1 to all the instances of the training set.\n",
        "    ms = X_train.shape[0]\n",
        "    ns = X_test.shape[0]\n",
        "    X_train = np.c_[np.ones((ms, 1)), X_train]\n",
        "    X_test = np.c_[np.ones((ns, 1)), X_test]\n",
        "\n",
        "    # fit/train the model\n",
        "    linear_regression_model.fit(X_train, y_train)\n",
        "\n",
        "    # predict values\n",
        "    y_train_predict = linear_regression_model.predict(X_train)\n",
        "    y_test_predict = linear_regression_model.predict(X_test)\n",
        "\n",
        "    # model parameters\n",
        "    #print(linear_regression_model.w_)\n",
        "    intercept, coeffs1, coeffs2, coeffs3, coeffs4, coeffs5, coeffs6, coeffs7 = linear_regression_model.w_\n",
        "\n",
        "    # cost_function\n",
        "    cost_function = linear_regression_model.cost_\n",
        "\n",
        "    # plotting\n",
        "    #plot(x, y, predicted_values)\n",
        "    ploty(cost_function, 'no of iterations', 'cost function')\n",
        "\n",
        "    # computing metrics\n",
        "    metrics_train = PerformanceMetrics(y_train, y_train_predict)\n",
        "    rmse_train = metrics_train.compute_rmse()\n",
        "    r2_score_train = metrics_train.compute_r2_score()\n",
        "\n",
        "    metrics_test = PerformanceMetrics(y_test, y_test_predict)\n",
        "    rmse_test = metrics_test.compute_rmse()\n",
        "    r2_score_test = metrics_test.compute_r2_score()\n",
        "    print(min(cost_function))"
      ]
    },
    {
      "cell_type": "markdown",
      "metadata": {
        "id": "EvuO3pXqN8Kt"
      },
      "source": [
        "**Data Normalization & Feature Selection & Surface and Contour Plots**"
      ]
    },
    {
      "cell_type": "code",
      "source": [
        "X_train=df_train.copy()\n",
        "X_test=df_test.copy()\n",
        "y_test=df_gt.copy()\n",
        "\n",
        "X_train['Fare'] = X_train['Fare'] / X_train['Fare'].max()\n",
        "X_train['Age'] = X_train['Age'] / X_train['Age'].max()\n",
        "X_test['Fare'] = X_test['Fare'] / X_test['Fare'].max()\n",
        "X_test['Age'] = X_test['Age'] / X_test['Age'].max()\n",
        "\n",
        "y_train1 = X_train[['Survived']]\n",
        "X_train1 = X_train[['Pclass', 'Sex', 'Age', 'SibSp', 'Parch', 'Fare', 'Embarked']]\n",
        "y_test1 = y_test[['Survived']]\n",
        "X_test1 = X_test[['Pclass', 'Sex', 'Age', 'SibSp', 'Parch', 'Fare', 'Embarked']]\n",
        "#print(X_train), print(y_train), print(X_test), print(y_test)\n",
        "\n",
        "funx('All Variables')\n",
        "#X_test1"
      ],
      "metadata": {
        "id": "8BQFAi_2OAbk",
        "colab": {
          "base_uri": "https://localhost:8080/",
          "height": 748
        },
        "outputId": "82878a48-f097-4608-f5e1-144910bd40af"
      },
      "execution_count": 18,
      "outputs": [
        {
          "output_type": "stream",
          "name": "stdout",
          "text": [
            "[[ 1.05752713]\n",
            " [-0.12237178]\n",
            " [-0.50737928]\n",
            " [-0.05849231]\n",
            " [-0.03269242]\n",
            " [-0.00814508]\n",
            " [ 0.24915799]\n",
            " [-0.02666436]]\n"
          ]
        },
        {
          "output_type": "display_data",
          "data": {
            "text/plain": [
              "<Figure size 432x288 with 1 Axes>"
            ],
            "image/png": "[encoded data removed]"
          },
          "metadata": {
            "needs_background": "light"
          }
        },
        {
          "output_type": "stream",
          "name": "stdout",
          "text": [
            "0.07318262409961913\n",
            "The intercept is [1.05752713]\n",
            "The coefficient-1 is [-0.12237178]\n",
            "The coefficient-2 is [-0.50737928]\n",
            "The coefficient-3 is [-0.05849231]\n",
            "The coefficient-4 is [-0.03269242]\n",
            "The coefficient-5 is [-0.00814508]\n",
            "The coefficient-6 is [0.24915799]\n",
            "The coefficient-7 is [-0.02666436]\n",
            "\n",
            "The model performance for training set\n",
            "--------------------------------------\n",
            "Root mean squared error of the model is 11.4192806259736.\n",
            "R-squared score is 0.38119082391626546.\n",
            "\n",
            "The model performance for test set\n",
            "--------------------------------------\n",
            "Root mean squared error of the model is 5.284629666499473.\n",
            "R-squared score is 0.7112778027889948.\n"
          ]
        }
      ]
    },
    {
      "cell_type": "markdown",
      "source": [
        "**Data Normalization & Feature Selection & Learning Rate Check**"
      ],
      "metadata": {
        "id": "JrQrye9PiCFp"
      }
    },
    {
      "cell_type": "code",
      "source": [
        "X_train=df_train.copy()\n",
        "X_test=df_test.copy()\n",
        "y_test=df_gt.copy()\n",
        "\n",
        "X_train['Fare'] = X_train['Fare'] / X_train['Fare'].max()\n",
        "X_train['Age'] = X_train['Age'] / X_train['Age'].max()\n",
        "X_test['Fare'] = X_test['Fare'] / X_test['Fare'].max()\n",
        "X_test['Age'] = X_test['Age'] / X_test['Age'].max()\n",
        "\n",
        "y_train1 = X_train[['Survived']]\n",
        "X_train1 = X_train[['Pclass', 'Sex', 'Age', 'SibSp', 'Parch', 'Fare', 'Embarked']]\n",
        "y_test1 = y_test[['Survived']]\n",
        "X_test1 = X_test[['Pclass', 'Sex', 'Age', 'SibSp', 'Parch', 'Fare', 'Embarked']]\n",
        "#print(X_train), print(y_train), print(X_test), print(y_test)\n",
        "\n",
        "funxAlpha('All Variables- eta=0.05')"
      ],
      "metadata": {
        "colab": {
          "base_uri": "https://localhost:8080/",
          "height": 296
        },
        "outputId": "7b0fc81e-bfa8-445a-d385-127625684d92",
        "id": "9xv_jvN4_jCH"
      },
      "execution_count": null,
      "outputs": [
        {
          "output_type": "display_data",
          "data": {
            "text/plain": [
              "<Figure size 432x288 with 1 Axes>"
            ],
            "image/png": "[encoded data removed]"
          },
          "metadata": {
            "needs_background": "light"
          }
        },
        {
          "output_type": "stream",
          "name": "stdout",
          "text": [
            "0.07603547748005893\n"
          ]
        }
      ]
    },
    {
      "cell_type": "code",
      "source": [
        "X_train=df_train.copy()\n",
        "X_test=df_test.copy()\n",
        "y_test=df_gt.copy()\n",
        "\n",
        "X_train['Fare'] = X_train['Fare'] / X_train['Fare'].max()\n",
        "X_train['Age'] = X_train['Age'] / X_train['Age'].max()\n",
        "X_test['Fare'] = X_test['Fare'] / X_test['Fare'].max()\n",
        "X_test['Age'] = X_test['Age'] / X_test['Age'].max()\n",
        "\n",
        "y_train1 = X_train[['Survived']]\n",
        "X_train1 = X_train[['Pclass', 'Sex', 'Age', 'SibSp', 'Parch', 'Fare', 'Embarked']]\n",
        "y_test1 = y_test[['Survived']]\n",
        "X_test1 = X_test[['Pclass', 'Sex', 'Age', 'SibSp', 'Parch', 'Fare', 'Embarked']]\n",
        "#print(X_train), print(y_train), print(X_test), print(y_test)\n",
        "\n",
        "funxAlpha('All Variables- eta=0.07')"
      ],
      "metadata": {
        "colab": {
          "base_uri": "https://localhost:8080/",
          "height": 296
        },
        "outputId": "078d80b8-0238-40e1-8a51-5bf493dd157d",
        "id": "4lchZPc0iHrn"
      },
      "execution_count": null,
      "outputs": [
        {
          "output_type": "display_data",
          "data": {
            "text/plain": [
              "<Figure size 432x288 with 1 Axes>"
            ],
            "image/png": "[encoded data removed]"
          },
          "metadata": {
            "needs_background": "light"
          }
        },
        {
          "output_type": "stream",
          "name": "stdout",
          "text": [
            "0.0744733455895562\n"
          ]
        }
      ]
    },
    {
      "cell_type": "code",
      "source": [
        "X_train=df_train.copy()\n",
        "X_test=df_test.copy()\n",
        "y_test=df_gt.copy()\n",
        "\n",
        "X_train['Fare'] = X_train['Fare'] / X_train['Fare'].max()\n",
        "X_train['Age'] = X_train['Age'] / X_train['Age'].max()\n",
        "X_test['Fare'] = X_test['Fare'] / X_test['Fare'].max()\n",
        "X_test['Age'] = X_test['Age'] / X_test['Age'].max()\n",
        "\n",
        "y_train1 = X_train[['Survived']]\n",
        "X_train1 = X_train[['Pclass', 'Sex', 'Age', 'SibSp', 'Parch', 'Fare', 'Embarked']]\n",
        "y_test1 = y_test[['Survived']]\n",
        "X_test1 = X_test[['Pclass', 'Sex', 'Age', 'SibSp', 'Parch', 'Fare', 'Embarked']]\n",
        "#print(X_train), print(y_train), print(X_test), print(y_test)\n",
        "\n",
        "funxAlpha('All Variables- eta=0.1')"
      ],
      "metadata": {
        "colab": {
          "base_uri": "https://localhost:8080/",
          "height": 296
        },
        "outputId": "2efde779-023c-4a5d-9871-24fd7afe3f4e",
        "id": "5LojrvFbBWd_"
      },
      "execution_count": 14,
      "outputs": [
        {
          "output_type": "display_data",
          "data": {
            "text/plain": [
              "<Figure size 432x288 with 1 Axes>"
            ],
            "image/png": "[encoded data removed]"
          },
          "metadata": {
            "needs_background": "light"
          }
        },
        {
          "output_type": "stream",
          "name": "stdout",
          "text": [
            "0.07318262409961913\n"
          ]
        }
      ]
    }
  ]
}